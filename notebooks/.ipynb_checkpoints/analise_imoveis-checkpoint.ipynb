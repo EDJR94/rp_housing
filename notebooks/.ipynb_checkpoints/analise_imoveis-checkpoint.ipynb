{
 "cells": [
  {
   "cell_type": "markdown",
   "id": "6e2067e8",
   "metadata": {},
   "source": [
    "# Análise e Modelagem de Preços de Imóveis"
   ]
  },
  {
   "cell_type": "markdown",
   "id": "5f2b2649",
   "metadata": {},
   "source": [
    "## Carregamento dos Dados"
   ]
  },
  {
   "cell_type": "code",
   "execution_count": null,
   "id": "f80565b6",
   "metadata": {},
   "outputs": [],
   "source": [
    "import pandas as pd\n",
    "\n",
    "# Carregando o dataset\n",
    "data = pd.read_csv('/mnt/data/gtp_analysis.csv')\n",
    "data.head()"
   ]
  },
  {
   "cell_type": "markdown",
   "id": "128737dc",
   "metadata": {},
   "source": [
    "## Pré-processamento dos Dados"
   ]
  },
  {
   "cell_type": "code",
   "execution_count": null,
   "id": "b7d60f28",
   "metadata": {},
   "outputs": [],
   "source": [
    "\n",
    "# Removendo as colunas 'nome' e 'link'\n",
    "data_cleaned = data.drop(columns=['nome', 'link'])\n",
    "\n",
    "# Codificando a coluna 'bairro' usando one-hot encoding\n",
    "data_encoded = pd.get_dummies(data_cleaned, columns=['bairro'], drop_first=True)\n",
    "\n",
    "# Separando as variáveis independentes e dependente\n",
    "X = data_encoded.drop(columns='preco')\n",
    "y = data_encoded['preco']\n",
    "\n",
    "# Dividindo os dados em conjuntos de treino e teste\n",
    "from sklearn.model_selection import train_test_split\n",
    "X_train, X_test, y_train, y_test = train_test_split(X, y, test_size=0.2, random_state=42)\n"
   ]
  },
  {
   "cell_type": "markdown",
   "id": "0bd6b000",
   "metadata": {},
   "source": [
    "## Modelagem com Regressão Linear"
   ]
  },
  {
   "cell_type": "code",
   "execution_count": null,
   "id": "d8c1daad",
   "metadata": {},
   "outputs": [],
   "source": [
    "\n",
    "from sklearn.linear_model import LinearRegression\n",
    "from sklearn.metrics import mean_squared_error, mean_absolute_error, r2_score\n",
    "\n",
    "# Inicializando e treinando o modelo de Regressão Linear\n",
    "linear_model = LinearRegression()\n",
    "linear_model.fit(X_train, y_train)\n",
    "\n",
    "# Predizendo os preços no conjunto de teste\n",
    "y_pred = linear_model.predict(X_test)\n",
    "\n",
    "# Calculando métricas de avaliação\n",
    "mse = mean_squared_error(y_test, y_pred)\n",
    "rmse = mean_squared_error(y_test, y_pred, squared=False)\n",
    "mae = mean_absolute_error(y_test, y_pred)\n",
    "r2 = r2_score(y_test, y_pred)\n",
    "\n",
    "mse, rmse, mae, r2\n"
   ]
  },
  {
   "cell_type": "markdown",
   "id": "60ca169f",
   "metadata": {},
   "source": [
    "## Engenharia de Características"
   ]
  },
  {
   "cell_type": "code",
   "execution_count": null,
   "id": "a369b4a5",
   "metadata": {},
   "outputs": [],
   "source": [
    "\n",
    "# Criando interações entre características\n",
    "X_train['area_per_quarto'] = X_train['area'] / (X_train['quartos'] + 1)\n",
    "X_train['area_per_banheiro'] = X_train['area'] / (X_train['banheiros'] + 1)\n",
    "X_train['quartos_banheiros'] = X_train['quartos'] * X_train['banheiros']\n",
    "\n",
    "X_test['area_per_quarto'] = X_test['area'] / (X_test['quartos'] + 1)\n",
    "X_test['area_per_banheiro'] = X_test['area'] / (X_test['banheiros'] + 1)\n",
    "X_test['quartos_banheiros'] = X_test['quartos'] * X_test['banheiros']\n",
    "\n",
    "# Criando características polinomiais\n",
    "X_train['area_squared'] = X_train['area'] ** 2\n",
    "X_train['quartos_squared'] = X_train['quartos'] ** 2\n",
    "\n",
    "X_test['area_squared'] = X_test['area'] ** 2\n",
    "X_test['quartos_squared'] = X_test['quartos'] ** 2\n"
   ]
  },
  {
   "cell_type": "markdown",
   "id": "6e0191f0",
   "metadata": {},
   "source": [
    "## Modelagem com Floresta Aleatória"
   ]
  },
  {
   "cell_type": "code",
   "execution_count": null,
   "id": "1871fbe7",
   "metadata": {},
   "outputs": [],
   "source": [
    "\n",
    "from sklearn.ensemble import RandomForestRegressor\n",
    "\n",
    "# Inicializando o modelo de Floresta Aleatória\n",
    "random_forest_model = RandomForestRegressor(n_estimators=100, random_state=42)\n",
    "\n",
    "# Treinando o modelo\n",
    "random_forest_model.fit(X_train, y_train)\n",
    "\n",
    "# Predizendo os preços no conjunto de teste\n",
    "y_pred_rf = random_forest_model.predict(X_test)\n",
    "\n",
    "# Calculando métricas de avaliação\n",
    "mse_rf = mean_squared_error(y_test, y_pred_rf)\n",
    "rmse_rf = mean_squared_error(y_test, y_pred_rf, squared=False)\n",
    "mae_rf = mean_absolute_error(y_test, y_pred_rf)\n",
    "r2_rf = r2_score(y_test, y_pred_rf)\n",
    "\n",
    "mse_rf, rmse_rf, mae_rf, r2_rf\n"
   ]
  }
 ],
 "metadata": {},
 "nbformat": 4,
 "nbformat_minor": 5
}
