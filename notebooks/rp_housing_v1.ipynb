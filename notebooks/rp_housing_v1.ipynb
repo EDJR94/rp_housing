{
 "cells": [
  {
   "cell_type": "markdown",
   "id": "4a189a1c-5944-40d6-81f0-df2fc7c8e046",
   "metadata": {},
   "source": [
    "# Imports"
   ]
  },
  {
   "cell_type": "code",
   "execution_count": 190,
   "id": "a30605e8-03d4-46eb-ae61-1a8d2bbf4398",
   "metadata": {},
   "outputs": [],
   "source": [
    "import pandas as pd\n",
    "import numpy as np \n",
    "import seaborn as sns\n",
    "import matplotlib.pyplot as plt\n",
    "\n",
    "\n",
    "from sklearn.compose import ColumnTransformer\n",
    "from sklearn.pipeline import Pipeline\n",
    "from sklearn.preprocessing import StandardScaler, MinMaxScaler, LabelEncoder, OneHotEncoder\n",
    "from sklearn.model_selection import train_test_split\n",
    "from sklearn.metrics import mean_absolute_error, mean_squared_error, mean_absolute_percentage_error\n",
    "\n",
    "sns.set_style('darkgrid')\n",
    "plt.style.use('ggplot')"
   ]
  },
  {
   "cell_type": "markdown",
   "id": "dd67548d-3eed-40b5-b187-2cbc8bed6a86",
   "metadata": {},
   "source": [
    "## Load Data"
   ]
  },
  {
   "cell_type": "code",
   "execution_count": 57,
   "id": "148e30a5-f32d-45f7-9604-1e7b604f5cbc",
   "metadata": {},
   "outputs": [],
   "source": [
    "path = '/home/edilson07/projects/rp_housing/datasets/'\n",
    "\n",
    "df = pd.read_csv(path + 'imoveis_region.csv')\n",
    "\n"
   ]
  },
  {
   "cell_type": "code",
   "execution_count": 58,
   "id": "7c840a35-ed4a-4134-9f73-f926baf6e9fe",
   "metadata": {},
   "outputs": [
    {
     "data": {
      "text/plain": [
       "(41968, 13)"
      ]
     },
     "execution_count": 58,
     "metadata": {},
     "output_type": "execute_result"
    }
   ],
   "source": [
    "df.shape"
   ]
  },
  {
   "cell_type": "code",
   "execution_count": 59,
   "id": "3a50886e-6653-47be-931c-4a239981a21b",
   "metadata": {},
   "outputs": [
    {
     "data": {
      "text/html": [
       "<div>\n",
       "<style scoped>\n",
       "    .dataframe tbody tr th:only-of-type {\n",
       "        vertical-align: middle;\n",
       "    }\n",
       "\n",
       "    .dataframe tbody tr th {\n",
       "        vertical-align: top;\n",
       "    }\n",
       "\n",
       "    .dataframe thead th {\n",
       "        text-align: right;\n",
       "    }\n",
       "</style>\n",
       "<table border=\"1\" class=\"dataframe\">\n",
       "  <thead>\n",
       "    <tr style=\"text-align: right;\">\n",
       "      <th></th>\n",
       "      <th>nome</th>\n",
       "      <th>preco</th>\n",
       "      <th>quartos</th>\n",
       "      <th>garagem</th>\n",
       "      <th>area</th>\n",
       "      <th>banheiros</th>\n",
       "      <th>condominio</th>\n",
       "      <th>link</th>\n",
       "      <th>tipo</th>\n",
       "      <th>bairro</th>\n",
       "      <th>latitude</th>\n",
       "      <th>longitude</th>\n",
       "      <th>regiao</th>\n",
       "    </tr>\n",
       "  </thead>\n",
       "  <tbody>\n",
       "    <tr>\n",
       "      <th>0</th>\n",
       "      <td>Vendo apartamento MRV (rio amazonas 1º andar, ...</td>\n",
       "      <td>180000.00</td>\n",
       "      <td>2</td>\n",
       "      <td>1</td>\n",
       "      <td>50</td>\n",
       "      <td>1</td>\n",
       "      <td>205.00</td>\n",
       "      <td>https://sp.olx.com.br/regiao-de-sao-jose-do-ri...</td>\n",
       "      <td>apartamento</td>\n",
       "      <td>Centro</td>\n",
       "      <td>-20.81</td>\n",
       "      <td>-49.38</td>\n",
       "      <td>Centro</td>\n",
       "    </tr>\n",
       "    <tr>\n",
       "      <th>1</th>\n",
       "      <td>Apartamento para venda em Jardim Santa Lúcia d...</td>\n",
       "      <td>150000.00</td>\n",
       "      <td>2</td>\n",
       "      <td>1</td>\n",
       "      <td>56</td>\n",
       "      <td>1</td>\n",
       "      <td>220.00</td>\n",
       "      <td>https://sp.olx.com.br/regiao-de-sao-jose-do-ri...</td>\n",
       "      <td>apartamento</td>\n",
       "      <td>Jardim Santa Lúcia</td>\n",
       "      <td>-20.80</td>\n",
       "      <td>-49.40</td>\n",
       "      <td>Cidade das Crianças</td>\n",
       "    </tr>\n",
       "    <tr>\n",
       "      <th>2</th>\n",
       "      <td>Apartamento para venda em Residencial Ana Céli...</td>\n",
       "      <td>150000.00</td>\n",
       "      <td>2</td>\n",
       "      <td>0</td>\n",
       "      <td>45</td>\n",
       "      <td>1</td>\n",
       "      <td>0.00</td>\n",
       "      <td>https://sp.olx.com.br/regiao-de-sao-jose-do-ri...</td>\n",
       "      <td>apartamento</td>\n",
       "      <td>Residencial Ana Célia</td>\n",
       "      <td>-20.78</td>\n",
       "      <td>-49.40</td>\n",
       "      <td>Pinheirinho</td>\n",
       "    </tr>\n",
       "    <tr>\n",
       "      <th>3</th>\n",
       "      <td>Apartamento para venda em Centenário Da Emanci...</td>\n",
       "      <td>140000.00</td>\n",
       "      <td>2</td>\n",
       "      <td>1</td>\n",
       "      <td>52</td>\n",
       "      <td>2</td>\n",
       "      <td>0.00</td>\n",
       "      <td>https://sp.olx.com.br/regiao-de-sao-jose-do-ri...</td>\n",
       "      <td>apartamento</td>\n",
       "      <td>Centenário da Emancipação</td>\n",
       "      <td>-20.76</td>\n",
       "      <td>-49.38</td>\n",
       "      <td>CEU</td>\n",
       "    </tr>\n",
       "    <tr>\n",
       "      <th>4</th>\n",
       "      <td>Apartamento para venda em Jardim Yolanda de 48...</td>\n",
       "      <td>170000.00</td>\n",
       "      <td>2</td>\n",
       "      <td>1</td>\n",
       "      <td>48</td>\n",
       "      <td>1</td>\n",
       "      <td>240.00</td>\n",
       "      <td>https://sp.olx.com.br/regiao-de-sao-jose-do-ri...</td>\n",
       "      <td>apartamento</td>\n",
       "      <td>Jardim Yolanda</td>\n",
       "      <td>-20.80</td>\n",
       "      <td>-49.35</td>\n",
       "      <td>Represa</td>\n",
       "    </tr>\n",
       "  </tbody>\n",
       "</table>\n",
       "</div>"
      ],
      "text/plain": [
       "                                                nome     preco  quartos  \\\n",
       "0  Vendo apartamento MRV (rio amazonas 1º andar, ... 180000.00        2   \n",
       "1  Apartamento para venda em Jardim Santa Lúcia d... 150000.00        2   \n",
       "2  Apartamento para venda em Residencial Ana Céli... 150000.00        2   \n",
       "3  Apartamento para venda em Centenário Da Emanci... 140000.00        2   \n",
       "4  Apartamento para venda em Jardim Yolanda de 48... 170000.00        2   \n",
       "\n",
       "   garagem  area  banheiros  condominio  \\\n",
       "0        1    50          1      205.00   \n",
       "1        1    56          1      220.00   \n",
       "2        0    45          1        0.00   \n",
       "3        1    52          2        0.00   \n",
       "4        1    48          1      240.00   \n",
       "\n",
       "                                                link         tipo  \\\n",
       "0  https://sp.olx.com.br/regiao-de-sao-jose-do-ri...  apartamento   \n",
       "1  https://sp.olx.com.br/regiao-de-sao-jose-do-ri...  apartamento   \n",
       "2  https://sp.olx.com.br/regiao-de-sao-jose-do-ri...  apartamento   \n",
       "3  https://sp.olx.com.br/regiao-de-sao-jose-do-ri...  apartamento   \n",
       "4  https://sp.olx.com.br/regiao-de-sao-jose-do-ri...  apartamento   \n",
       "\n",
       "                       bairro  latitude  longitude               regiao  \n",
       "0                      Centro    -20.81     -49.38               Centro  \n",
       "1          Jardim Santa Lúcia    -20.80     -49.40  Cidade das Crianças  \n",
       "2       Residencial Ana Célia    -20.78     -49.40          Pinheirinho  \n",
       "3   Centenário da Emancipação    -20.76     -49.38                  CEU  \n",
       "4              Jardim Yolanda    -20.80     -49.35              Represa  "
      ]
     },
     "execution_count": 59,
     "metadata": {},
     "output_type": "execute_result"
    }
   ],
   "source": [
    "df.head()"
   ]
  },
  {
   "cell_type": "markdown",
   "id": "244239d5-cb49-4846-88f8-a94712df2e58",
   "metadata": {},
   "source": [
    "# Data Description"
   ]
  },
  {
   "cell_type": "code",
   "execution_count": 60,
   "id": "addd1ea7-4e09-4456-b7dc-34fbbaba1297",
   "metadata": {},
   "outputs": [
    {
     "name": "stdout",
     "output_type": "stream",
     "text": [
      "<class 'pandas.core.frame.DataFrame'>\n",
      "RangeIndex: 41968 entries, 0 to 41967\n",
      "Data columns (total 13 columns):\n",
      " #   Column      Non-Null Count  Dtype  \n",
      "---  ------      --------------  -----  \n",
      " 0   nome        41968 non-null  object \n",
      " 1   preco       41968 non-null  float64\n",
      " 2   quartos     41968 non-null  int64  \n",
      " 3   garagem     41968 non-null  int64  \n",
      " 4   area        41968 non-null  int64  \n",
      " 5   banheiros   41968 non-null  int64  \n",
      " 6   condominio  41968 non-null  float64\n",
      " 7   link        41968 non-null  object \n",
      " 8   tipo        41968 non-null  object \n",
      " 9   bairro      41968 non-null  object \n",
      " 10  latitude    41968 non-null  float64\n",
      " 11  longitude   41968 non-null  float64\n",
      " 12  regiao      41968 non-null  object \n",
      "dtypes: float64(4), int64(4), object(5)\n",
      "memory usage: 4.2+ MB\n"
     ]
    }
   ],
   "source": [
    "df.info()"
   ]
  },
  {
   "cell_type": "code",
   "execution_count": 61,
   "id": "2ba5e457-8f34-480a-94ec-c5b407aea639",
   "metadata": {},
   "outputs": [],
   "source": [
    "pd.set_option('display.float_format', '{:.2f}'.format)"
   ]
  },
  {
   "cell_type": "code",
   "execution_count": 62,
   "id": "fdc2babc-ac3f-43af-8c2f-c4b49f85ed97",
   "metadata": {},
   "outputs": [
    {
     "data": {
      "text/html": [
       "<div>\n",
       "<style scoped>\n",
       "    .dataframe tbody tr th:only-of-type {\n",
       "        vertical-align: middle;\n",
       "    }\n",
       "\n",
       "    .dataframe tbody tr th {\n",
       "        vertical-align: top;\n",
       "    }\n",
       "\n",
       "    .dataframe thead th {\n",
       "        text-align: right;\n",
       "    }\n",
       "</style>\n",
       "<table border=\"1\" class=\"dataframe\">\n",
       "  <thead>\n",
       "    <tr style=\"text-align: right;\">\n",
       "      <th></th>\n",
       "      <th>preco</th>\n",
       "      <th>quartos</th>\n",
       "      <th>garagem</th>\n",
       "      <th>area</th>\n",
       "      <th>banheiros</th>\n",
       "      <th>condominio</th>\n",
       "      <th>latitude</th>\n",
       "      <th>longitude</th>\n",
       "    </tr>\n",
       "  </thead>\n",
       "  <tbody>\n",
       "    <tr>\n",
       "      <th>count</th>\n",
       "      <td>41968.00</td>\n",
       "      <td>41968.00</td>\n",
       "      <td>41968.00</td>\n",
       "      <td>41968.00</td>\n",
       "      <td>41968.00</td>\n",
       "      <td>41968.00</td>\n",
       "      <td>41968.00</td>\n",
       "      <td>41968.00</td>\n",
       "    </tr>\n",
       "    <tr>\n",
       "      <th>mean</th>\n",
       "      <td>880367.87</td>\n",
       "      <td>2.81</td>\n",
       "      <td>2.34</td>\n",
       "      <td>200.09</td>\n",
       "      <td>2.84</td>\n",
       "      <td>276.74</td>\n",
       "      <td>-20.81</td>\n",
       "      <td>-49.37</td>\n",
       "    </tr>\n",
       "    <tr>\n",
       "      <th>std</th>\n",
       "      <td>1127692.21</td>\n",
       "      <td>0.75</td>\n",
       "      <td>1.35</td>\n",
       "      <td>2300.21</td>\n",
       "      <td>1.42</td>\n",
       "      <td>10820.06</td>\n",
       "      <td>0.03</td>\n",
       "      <td>0.03</td>\n",
       "    </tr>\n",
       "    <tr>\n",
       "      <th>min</th>\n",
       "      <td>10000.00</td>\n",
       "      <td>1.00</td>\n",
       "      <td>0.00</td>\n",
       "      <td>10.00</td>\n",
       "      <td>1.00</td>\n",
       "      <td>0.00</td>\n",
       "      <td>-20.90</td>\n",
       "      <td>-49.46</td>\n",
       "    </tr>\n",
       "    <tr>\n",
       "      <th>25%</th>\n",
       "      <td>290000.00</td>\n",
       "      <td>2.00</td>\n",
       "      <td>1.00</td>\n",
       "      <td>80.00</td>\n",
       "      <td>2.00</td>\n",
       "      <td>0.00</td>\n",
       "      <td>-20.83</td>\n",
       "      <td>-49.39</td>\n",
       "    </tr>\n",
       "    <tr>\n",
       "      <th>50%</th>\n",
       "      <td>485000.00</td>\n",
       "      <td>3.00</td>\n",
       "      <td>2.00</td>\n",
       "      <td>140.00</td>\n",
       "      <td>3.00</td>\n",
       "      <td>1.40</td>\n",
       "      <td>-20.81</td>\n",
       "      <td>-49.38</td>\n",
       "    </tr>\n",
       "    <tr>\n",
       "      <th>75%</th>\n",
       "      <td>1150000.00</td>\n",
       "      <td>3.00</td>\n",
       "      <td>4.00</td>\n",
       "      <td>225.00</td>\n",
       "      <td>4.00</td>\n",
       "      <td>380.00</td>\n",
       "      <td>-20.80</td>\n",
       "      <td>-49.35</td>\n",
       "    </tr>\n",
       "    <tr>\n",
       "      <th>max</th>\n",
       "      <td>111111111.00</td>\n",
       "      <td>5.00</td>\n",
       "      <td>5.00</td>\n",
       "      <td>276161.00</td>\n",
       "      <td>5.00</td>\n",
       "      <td>1750000.00</td>\n",
       "      <td>-20.71</td>\n",
       "      <td>-49.29</td>\n",
       "    </tr>\n",
       "  </tbody>\n",
       "</table>\n",
       "</div>"
      ],
      "text/plain": [
       "             preco  quartos  garagem      area  banheiros  condominio  \\\n",
       "count     41968.00 41968.00 41968.00  41968.00   41968.00    41968.00   \n",
       "mean     880367.87     2.81     2.34    200.09       2.84      276.74   \n",
       "std     1127692.21     0.75     1.35   2300.21       1.42    10820.06   \n",
       "min       10000.00     1.00     0.00     10.00       1.00        0.00   \n",
       "25%      290000.00     2.00     1.00     80.00       2.00        0.00   \n",
       "50%      485000.00     3.00     2.00    140.00       3.00        1.40   \n",
       "75%     1150000.00     3.00     4.00    225.00       4.00      380.00   \n",
       "max   111111111.00     5.00     5.00 276161.00       5.00  1750000.00   \n",
       "\n",
       "       latitude  longitude  \n",
       "count  41968.00   41968.00  \n",
       "mean     -20.81     -49.37  \n",
       "std        0.03       0.03  \n",
       "min      -20.90     -49.46  \n",
       "25%      -20.83     -49.39  \n",
       "50%      -20.81     -49.38  \n",
       "75%      -20.80     -49.35  \n",
       "max      -20.71     -49.29  "
      ]
     },
     "execution_count": 62,
     "metadata": {},
     "output_type": "execute_result"
    }
   ],
   "source": [
    "df.describe()"
   ]
  },
  {
   "cell_type": "markdown",
   "id": "d8f1f21b-f55a-4f08-aa7f-d37c79dd2e11",
   "metadata": {},
   "source": [
    "## Target Variable(Price)"
   ]
  },
  {
   "cell_type": "code",
   "execution_count": 63,
   "id": "6aa3b71b-1886-4bcf-b68f-ffd09b26ee3f",
   "metadata": {},
   "outputs": [
    {
     "data": {
      "text/plain": [
       "<Axes: ylabel='preco'>"
      ]
     },
     "execution_count": 63,
     "metadata": {},
     "output_type": "execute_result"
    },
    {
     "data": {
      "image/png": "[encoded data removed]",
      "text/plain": [
       "<Figure size 640x480 with 1 Axes>"
      ]
     },
     "metadata": {},
     "output_type": "display_data"
    }
   ],
   "source": [
    "sns.boxplot(df['preco'])"
   ]
  },
  {
   "cell_type": "code",
   "execution_count": 64,
   "id": "ba77f8fb-4233-41a4-842d-0bb29c1d6359",
   "metadata": {},
   "outputs": [],
   "source": [
    "#remove outlier\n",
    "df = df.loc[df['preco'] < 100000000,:]"
   ]
  },
  {
   "cell_type": "code",
   "execution_count": 84,
   "id": "c73cf77c-3570-481b-a172-d88687975d1b",
   "metadata": {},
   "outputs": [
    {
     "data": {
      "text/plain": [
       "<Axes: xlabel='preco', ylabel='Count'>"
      ]
     },
     "execution_count": 84,
     "metadata": {},
     "output_type": "execute_result"
    },
    {
     "data": {
      "image/png": "[encoded data removed]",
      "text/plain": [
       "<Figure size 640x480 with 1 Axes>"
      ]
     },
     "metadata": {},
     "output_type": "display_data"
    }
   ],
   "source": [
    "sns.histplot(df['preco'], bins=25)"
   ]
  },
  {
   "cell_type": "markdown",
   "id": "bd4d6e56-1a69-4d8d-8dfa-77c619484ef1",
   "metadata": {},
   "source": [
    "## Area outlier"
   ]
  },
  {
   "cell_type": "code",
   "execution_count": 65,
   "id": "172f2174-a15b-44e2-96d4-c3aa704b652b",
   "metadata": {},
   "outputs": [
    {
     "data": {
      "text/plain": [
       "<Axes: ylabel='area'>"
      ]
     },
     "execution_count": 65,
     "metadata": {},
     "output_type": "execute_result"
    },
    {
     "data": {
      "image/png": "[encoded data removed]",
      "text/plain": [
       "<Figure size 640x480 with 1 Axes>"
      ]
     },
     "metadata": {},
     "output_type": "display_data"
    }
   ],
   "source": [
    "sns.boxplot(df['area'])"
   ]
  },
  {
   "cell_type": "code",
   "execution_count": 66,
   "id": "8f977d9c-33bb-46b6-8a6e-b2daf57b05c7",
   "metadata": {},
   "outputs": [],
   "source": [
    "houses = houses.loc[houses['area'] < 4000,:]"
   ]
  },
  {
   "cell_type": "markdown",
   "id": "da74328a-8139-43c8-9fda-40c87447c8a6",
   "metadata": {},
   "source": [
    "## Condominio outlier"
   ]
  },
  {
   "cell_type": "code",
   "execution_count": 67,
   "id": "eed9b39b-56a6-4035-8afb-c1ce2d61d343",
   "metadata": {},
   "outputs": [
    {
     "data": {
      "text/plain": [
       "<Axes: ylabel='condominio'>"
      ]
     },
     "execution_count": 67,
     "metadata": {},
     "output_type": "execute_result"
    },
    {
     "data": {
      "image/png": "[encoded data removed]",
      "text/plain": [
       "<Figure size 640x480 with 1 Axes>"
      ]
     },
     "metadata": {},
     "output_type": "display_data"
    }
   ],
   "source": [
    "sns.boxplot(df['condominio'])"
   ]
  },
  {
   "cell_type": "code",
   "execution_count": 68,
   "id": "5bdda7d9-1484-4974-af04-e9879ae149cb",
   "metadata": {},
   "outputs": [],
   "source": [
    "df = df.loc[df['condominio'] < 1500,:]\n"
   ]
  },
  {
   "cell_type": "markdown",
   "id": "71ab56d7-a71f-4251-b36c-795efe970147",
   "metadata": {},
   "source": [
    "## Outlier with IQR"
   ]
  },
  {
   "cell_type": "code",
   "execution_count": 236,
   "id": "426482f7-0a91-44cc-9109-83145d3fec82",
   "metadata": {},
   "outputs": [],
   "source": [
    "# Calculando o IQR para a coluna 'preco'\n",
    "Q1 = df['preco'].quantile(0.25)\n",
    "Q3 = df['preco'].quantile(0.75)\n",
    "IQR = Q3 - Q1\n",
    "\n",
    "# Definindo os limites inferior e superior\n",
    "lower_limit = Q1 - 1.5 * IQR\n",
    "upper_limit = Q3 + 1.5 * IQR\n",
    "\n",
    "# Filtrando o dataset para remover outliers\n",
    "data_cleaned = df[(df['preco'] >= lower_limit) & (df['preco'] <= upper_limit)]"
   ]
  },
  {
   "cell_type": "markdown",
   "id": "dacf6c0a-071e-4483-9dc6-03bdc348de52",
   "metadata": {},
   "source": [
    "## EDA"
   ]
  },
  {
   "cell_type": "code",
   "execution_count": 237,
   "id": "5571a7eb-4eff-47aa-b2fc-651c0ac89dee",
   "metadata": {},
   "outputs": [],
   "source": [
    "houses = df.loc[df['tipo'] == 'casa',:]\n",
    "aps = df.loc[df['tipo'] == 'apartamento',:]"
   ]
  },
  {
   "cell_type": "markdown",
   "id": "39a6726f-98a0-4539-8bc5-a4c759594c62",
   "metadata": {},
   "source": [
    "Preço em relação às regiões"
   ]
  },
  {
   "cell_type": "code",
   "execution_count": 238,
   "id": "90061393-63fd-42f1-b4f8-6d511579653b",
   "metadata": {},
   "outputs": [
    {
     "data": {
      "text/plain": [
       "Text(0.5, 1.0, 'Preço de Aps por Regiões')"
      ]
     },
     "execution_count": 238,
     "metadata": {},
     "output_type": "execute_result"
    },
    {
     "data": {
      "image/png": "[encoded data removed]",
      "text/plain": [
       "<Figure size 1200x500 with 2 Axes>"
      ]
     },
     "metadata": {},
     "output_type": "display_data"
    }
   ],
   "source": [
    "plt.figure(figsize=(12,5))\n",
    "\n",
    "plt.subplot(1,2,1)\n",
    "sns.barplot(houses, x = houses['regiao'], y=houses['preco'], errorbar=None)\n",
    "plt.xticks(rotation=-90);\n",
    "plt.xlabel('Regiões')\n",
    "plt.ylabel('Preço')\n",
    "plt.title('Preço de Casa por Regiões')\n",
    "\n",
    "plt.subplot(1,2,2)\n",
    "sns.barplot(aps, x = aps['regiao'], y=aps['preco'], errorbar=None)\n",
    "plt.xticks(rotation=-90);\n",
    "plt.xlabel('Regiões')\n",
    "plt.ylabel('Preço')\n",
    "plt.title('Preço de Aps por Regiões')"
   ]
  },
  {
   "cell_type": "markdown",
   "id": "72aa20a7-c656-4757-8f79-76762adf5630",
   "metadata": {},
   "source": [
    "Preço em relação a banheiro, garagem e quartos"
   ]
  },
  {
   "cell_type": "code",
   "execution_count": 239,
   "id": "707f7b4d-f596-41f8-a7df-e0a11f54f26f",
   "metadata": {},
   "outputs": [
    {
     "data": {
      "text/plain": [
       "<Axes: xlabel='quartos', ylabel='preco'>"
      ]
     },
     "execution_count": 239,
     "metadata": {},
     "output_type": "execute_result"
    },
    {
     "data": {
      "image/png": "[encoded data removed]",
      "text/plain": [
       "<Figure size 1200x400 with 3 Axes>"
      ]
     },
     "metadata": {},
     "output_type": "display_data"
    }
   ],
   "source": [
    "plt.figure(figsize=(12,4))\n",
    "\n",
    "plt.subplot(1,3,1)\n",
    "sns.barplot(houses, x = houses['banheiros'], y=houses['preco'], errorbar=None)\n",
    "\n",
    "plt.subplot(1,3,2)\n",
    "sns.barplot(houses, x = houses['garagem'], y=houses['preco'], errorbar=None)\n",
    "\n",
    "plt.subplot(1,3,3)\n",
    "sns.barplot(houses, x = houses['quartos'], y=houses['preco'], errorbar=None)"
   ]
  },
  {
   "cell_type": "code",
   "execution_count": 240,
   "id": "5acfa96c-7b89-410e-abad-ef1b9a8affe4",
   "metadata": {},
   "outputs": [
    {
     "data": {
      "text/plain": [
       "<Axes: xlabel='condominio', ylabel='preco'>"
      ]
     },
     "execution_count": 240,
     "metadata": {},
     "output_type": "execute_result"
    },
    {
     "data": {
      "image/png": "[encoded data removed]",
      "text/plain": [
       "<Figure size 640x480 with 1 Axes>"
      ]
     },
     "metadata": {},
     "output_type": "display_data"
    }
   ],
   "source": [
    "sns.scatterplot(houses, x='condominio', y='preco')"
   ]
  },
  {
   "cell_type": "markdown",
   "id": "2efafb94-ddd7-420e-a9f3-694149a46c12",
   "metadata": {},
   "source": [
    "# Machine Learning"
   ]
  },
  {
   "cell_type": "code",
   "execution_count": 258,
   "id": "cd61b9a0-f9e9-4a76-8e66-b725019bfd90",
   "metadata": {},
   "outputs": [
    {
     "data": {
      "text/plain": [
       "(37208, 13)"
      ]
     },
     "execution_count": 258,
     "metadata": {},
     "output_type": "execute_result"
    }
   ],
   "source": [
    "data_cleaned.shape"
   ]
  },
  {
   "cell_type": "code",
   "execution_count": 245,
   "id": "9ff8dd93-e357-4d3f-84fd-ea4a14b633ed",
   "metadata": {},
   "outputs": [],
   "source": [
    "train, test = train_test_split(data_cleaned, test_size=0.2, random_state=42, stratify=data_cleaned['tipo'])"
   ]
  },
  {
   "cell_type": "code",
   "execution_count": 246,
   "id": "d9ceb145-d146-4056-9248-e0099069ec5b",
   "metadata": {},
   "outputs": [
    {
     "data": {
      "text/plain": [
       "(7442, 13)"
      ]
     },
     "execution_count": 246,
     "metadata": {},
     "output_type": "execute_result"
    }
   ],
   "source": [
    "test.shape"
   ]
  },
  {
   "cell_type": "code",
   "execution_count": 247,
   "id": "5eb8a243-8c6f-44f5-93d1-551b703195be",
   "metadata": {},
   "outputs": [
    {
     "data": {
      "text/plain": [
       "nome          23596\n",
       "preco          1510\n",
       "quartos           5\n",
       "garagem           5\n",
       "area            637\n",
       "banheiros         5\n",
       "condominio      789\n",
       "link          39860\n",
       "tipo              2\n",
       "bairro          411\n",
       "latitude        344\n",
       "longitude       281\n",
       "regiao           10\n",
       "dtype: int64"
      ]
     },
     "execution_count": 247,
     "metadata": {},
     "output_type": "execute_result"
    }
   ],
   "source": [
    "df.nunique()"
   ]
  },
  {
   "cell_type": "code",
   "execution_count": 248,
   "id": "77885897-df69-48e9-bff5-23ce6a279a5e",
   "metadata": {},
   "outputs": [],
   "source": [
    "df_train_X = train.drop(['preco'], axis=1).copy()\n",
    "df_train_y = train['preco'].copy()"
   ]
  },
  {
   "cell_type": "code",
   "execution_count": 249,
   "id": "03b988ed-885c-4b6c-bb52-9414e260e344",
   "metadata": {},
   "outputs": [],
   "source": [
    "def frequency_encoding(df, col_name):\n",
    "    encoding = df.groupby(col_name).size() / len(df)\n",
    "    return df[col_name].map(encoding)\n",
    "    \n",
    "def binary_preprocess(df, column):\n",
    "    df[column] = df[column].apply(lambda x: 0 if x == 'apartamento' else 1)\n",
    "\n",
    "    return df[column]\n",
    "\n",
    "cols_to_drop = ['nome', 'link']\n",
    "\n",
    "ordinal_cols = ['quartos', 'garagem','banheiros']\n",
    "\n",
    "minmax_cols = ['area', 'condominio']\n",
    "\n",
    "onehot_cols = ['regiao']"
   ]
  },
  {
   "cell_type": "markdown",
   "id": "f9b33d73-3eeb-46d0-89af-9d1e1450074c",
   "metadata": {},
   "source": [
    "## Preprocessing"
   ]
  },
  {
   "cell_type": "code",
   "execution_count": 250,
   "id": "46a0487e-f54a-4493-889c-6007e59fa8e0",
   "metadata": {},
   "outputs": [],
   "source": [
    "# 1. Frequency encoding para 'bairro'\n",
    "df_train_X['bairro'] = frequency_encoding(df_train_X, 'bairro')\n",
    "\n",
    "# 2. Dropar as colunas 'nome' e 'link'\n",
    "df_train_X = df_train_X.drop(columns=cols_to_drop)\n",
    "\n",
    "# 3. Aplicar MinMaxScaler nas colunas 'area' e 'condominio'\n",
    "scaler = StandardScaler()\n",
    "df_train_X[minmax_cols] = scaler.fit_transform(df_train_X[minmax_cols])\n",
    "\n",
    "df_train_X['tipo'] = binary_preprocess(df_train_X, 'tipo')\n",
    "\n",
    "# 4. OneHotEncoding para 'regiao' e 'tipo'\n",
    "encoder = OneHotEncoder()\n",
    "encoded_features = encoder.fit_transform(df_train_X[onehot_cols]).toarray()\n",
    "encoded_cols = encoder.get_feature_names_out(onehot_cols)\n",
    "# Adicionar as novas colunas ao dataframe e dropar as originais\n",
    "for idx, col in enumerate(encoded_cols):\n",
    "    df_train_X[col] = encoded_features[:, idx]\n",
    "df_train_X = df_train_X.drop(columns=onehot_cols)"
   ]
  },
  {
   "cell_type": "code",
   "execution_count": 251,
   "id": "78bd08ca-0fa9-4811-b966-9cf1010f03a7",
   "metadata": {},
   "outputs": [
    {
     "data": {
      "text/html": [
       "<div>\n",
       "<style scoped>\n",
       "    .dataframe tbody tr th:only-of-type {\n",
       "        vertical-align: middle;\n",
       "    }\n",
       "\n",
       "    .dataframe tbody tr th {\n",
       "        vertical-align: top;\n",
       "    }\n",
       "\n",
       "    .dataframe thead th {\n",
       "        text-align: right;\n",
       "    }\n",
       "</style>\n",
       "<table border=\"1\" class=\"dataframe\">\n",
       "  <thead>\n",
       "    <tr style=\"text-align: right;\">\n",
       "      <th></th>\n",
       "      <th>quartos</th>\n",
       "      <th>garagem</th>\n",
       "      <th>area</th>\n",
       "      <th>banheiros</th>\n",
       "      <th>condominio</th>\n",
       "      <th>tipo</th>\n",
       "      <th>bairro</th>\n",
       "      <th>latitude</th>\n",
       "      <th>longitude</th>\n",
       "      <th>regiao_BOSQUE</th>\n",
       "      <th>regiao_CEU</th>\n",
       "      <th>regiao_Centro</th>\n",
       "      <th>regiao_Cidade das Crianças</th>\n",
       "      <th>regiao_HB</th>\n",
       "      <th>regiao_Pinheirinho</th>\n",
       "      <th>regiao_Represa</th>\n",
       "      <th>regiao_Schimidt</th>\n",
       "      <th>regiao_Talhados</th>\n",
       "      <th>regiao_Vila Toninho</th>\n",
       "    </tr>\n",
       "  </thead>\n",
       "  <tbody>\n",
       "    <tr>\n",
       "      <th>26222</th>\n",
       "      <td>3</td>\n",
       "      <td>5</td>\n",
       "      <td>0.04</td>\n",
       "      <td>5</td>\n",
       "      <td>1.07</td>\n",
       "      <td>1</td>\n",
       "      <td>0.01</td>\n",
       "      <td>-20.81</td>\n",
       "      <td>-49.33</td>\n",
       "      <td>0.00</td>\n",
       "      <td>0.00</td>\n",
       "      <td>0.00</td>\n",
       "      <td>0.00</td>\n",
       "      <td>0.00</td>\n",
       "      <td>0.00</td>\n",
       "      <td>1.00</td>\n",
       "      <td>0.00</td>\n",
       "      <td>0.00</td>\n",
       "      <td>0.00</td>\n",
       "    </tr>\n",
       "    <tr>\n",
       "      <th>6725</th>\n",
       "      <td>2</td>\n",
       "      <td>1</td>\n",
       "      <td>-0.05</td>\n",
       "      <td>2</td>\n",
       "      <td>-0.19</td>\n",
       "      <td>0</td>\n",
       "      <td>0.00</td>\n",
       "      <td>-20.77</td>\n",
       "      <td>-49.35</td>\n",
       "      <td>1.00</td>\n",
       "      <td>0.00</td>\n",
       "      <td>0.00</td>\n",
       "      <td>0.00</td>\n",
       "      <td>0.00</td>\n",
       "      <td>0.00</td>\n",
       "      <td>0.00</td>\n",
       "      <td>0.00</td>\n",
       "      <td>0.00</td>\n",
       "      <td>0.00</td>\n",
       "    </tr>\n",
       "    <tr>\n",
       "      <th>29758</th>\n",
       "      <td>3</td>\n",
       "      <td>2</td>\n",
       "      <td>-0.02</td>\n",
       "      <td>2</td>\n",
       "      <td>-0.83</td>\n",
       "      <td>1</td>\n",
       "      <td>0.00</td>\n",
       "      <td>-20.79</td>\n",
       "      <td>-49.44</td>\n",
       "      <td>0.00</td>\n",
       "      <td>0.00</td>\n",
       "      <td>0.00</td>\n",
       "      <td>1.00</td>\n",
       "      <td>0.00</td>\n",
       "      <td>0.00</td>\n",
       "      <td>0.00</td>\n",
       "      <td>0.00</td>\n",
       "      <td>0.00</td>\n",
       "      <td>0.00</td>\n",
       "    </tr>\n",
       "    <tr>\n",
       "      <th>23475</th>\n",
       "      <td>3</td>\n",
       "      <td>4</td>\n",
       "      <td>0.01</td>\n",
       "      <td>4</td>\n",
       "      <td>1.28</td>\n",
       "      <td>1</td>\n",
       "      <td>0.01</td>\n",
       "      <td>-20.86</td>\n",
       "      <td>-49.33</td>\n",
       "      <td>0.00</td>\n",
       "      <td>0.00</td>\n",
       "      <td>0.00</td>\n",
       "      <td>0.00</td>\n",
       "      <td>0.00</td>\n",
       "      <td>0.00</td>\n",
       "      <td>0.00</td>\n",
       "      <td>1.00</td>\n",
       "      <td>0.00</td>\n",
       "      <td>0.00</td>\n",
       "    </tr>\n",
       "    <tr>\n",
       "      <th>28222</th>\n",
       "      <td>3</td>\n",
       "      <td>1</td>\n",
       "      <td>-0.03</td>\n",
       "      <td>2</td>\n",
       "      <td>-0.83</td>\n",
       "      <td>1</td>\n",
       "      <td>0.01</td>\n",
       "      <td>-20.79</td>\n",
       "      <td>-49.40</td>\n",
       "      <td>0.00</td>\n",
       "      <td>0.00</td>\n",
       "      <td>0.00</td>\n",
       "      <td>1.00</td>\n",
       "      <td>0.00</td>\n",
       "      <td>0.00</td>\n",
       "      <td>0.00</td>\n",
       "      <td>0.00</td>\n",
       "      <td>0.00</td>\n",
       "      <td>0.00</td>\n",
       "    </tr>\n",
       "  </tbody>\n",
       "</table>\n",
       "</div>"
      ],
      "text/plain": [
       "       quartos  garagem  area  banheiros  condominio  tipo  bairro  latitude  \\\n",
       "26222        3        5  0.04          5        1.07     1    0.01    -20.81   \n",
       "6725         2        1 -0.05          2       -0.19     0    0.00    -20.77   \n",
       "29758        3        2 -0.02          2       -0.83     1    0.00    -20.79   \n",
       "23475        3        4  0.01          4        1.28     1    0.01    -20.86   \n",
       "28222        3        1 -0.03          2       -0.83     1    0.01    -20.79   \n",
       "\n",
       "       longitude  regiao_BOSQUE  regiao_CEU  regiao_Centro  \\\n",
       "26222     -49.33           0.00        0.00           0.00   \n",
       "6725      -49.35           1.00        0.00           0.00   \n",
       "29758     -49.44           0.00        0.00           0.00   \n",
       "23475     -49.33           0.00        0.00           0.00   \n",
       "28222     -49.40           0.00        0.00           0.00   \n",
       "\n",
       "       regiao_Cidade das Crianças  regiao_HB  regiao_Pinheirinho  \\\n",
       "26222                        0.00       0.00                0.00   \n",
       "6725                         0.00       0.00                0.00   \n",
       "29758                        1.00       0.00                0.00   \n",
       "23475                        0.00       0.00                0.00   \n",
       "28222                        1.00       0.00                0.00   \n",
       "\n",
       "       regiao_Represa  regiao_Schimidt  regiao_Talhados  regiao_Vila Toninho  \n",
       "26222            1.00             0.00             0.00                 0.00  \n",
       "6725             0.00             0.00             0.00                 0.00  \n",
       "29758            0.00             0.00             0.00                 0.00  \n",
       "23475            0.00             1.00             0.00                 0.00  \n",
       "28222            0.00             0.00             0.00                 0.00  "
      ]
     },
     "execution_count": 251,
     "metadata": {},
     "output_type": "execute_result"
    }
   ],
   "source": [
    "df_train_X.head()"
   ]
  },
  {
   "cell_type": "code",
   "execution_count": 211,
   "id": "02fb6adb-3965-4902-a27c-c962b494a605",
   "metadata": {},
   "outputs": [],
   "source": [
    "# estimator = RandomForestRegressor(n_jobs=-1)\n",
    "# selector = RFECV(estimator, step=1, cv=5)\n",
    "# selector = selector.fit(X_train, y_train)"
   ]
  },
  {
   "cell_type": "code",
   "execution_count": 212,
   "id": "fbb6c6f4-97a4-42ec-a696-626f4830e9db",
   "metadata": {},
   "outputs": [],
   "source": [
    "# # Colunas selecionadas\n",
    "# selected_columns = X_train.columns[selector.support_]\n",
    "\n",
    "# print(\"Colunas selecionadas pelo RFE:\")\n",
    "# print(selected_columns)"
   ]
  },
  {
   "cell_type": "code",
   "execution_count": 213,
   "id": "cdd09cc7-0941-4fc3-bd21-af0f30ab8aea",
   "metadata": {},
   "outputs": [],
   "source": [
    "cols_selected = ['quartos', 'garagem', 'area', 'banheiros', 'condominio', 'tipo',\n",
    "       'bairro', 'latitude', 'longitude', 'regiao_Centro',\n",
    "       'regiao_Cidade das Crianças', 'regiao_HB', 'regiao_Represa',\n",
    "       'regiao_Schimidt', 'regiao_Vila Toninho']"
   ]
  },
  {
   "cell_type": "code",
   "execution_count": 214,
   "id": "fbde9b32-646a-423b-8b7e-28e4f1dcef20",
   "metadata": {},
   "outputs": [],
   "source": [
    "df_train_X = df_train_X[cols_selected]"
   ]
  },
  {
   "cell_type": "markdown",
   "id": "e977b168-9d3a-4637-aa1c-193a90450bb8",
   "metadata": {},
   "source": [
    "## Column Transformer"
   ]
  },
  {
   "cell_type": "code",
   "execution_count": 179,
   "id": "cd3e0d6e-dfea-4542-806b-c4ffa3a468f9",
   "metadata": {},
   "outputs": [],
   "source": [
    "# #Frequency encoding bairro\n",
    "# def frequency_encoding(df, col_name):\n",
    "#     encoding = df.groupby(col_name).size() / len(df)\n",
    "#     return df[col_name].map(encoding)\n",
    "\n",
    "# cols_to_drop = ['nome', 'link']\n",
    "\n",
    "# ordinal_cols = ['quartos', 'garagem','banheiros']\n",
    "\n",
    "# minmax_cols = ['area', 'condominio']\n",
    "\n",
    "# onehot_cols = ['regiao', 'tipo']\n",
    "\n",
    "# preprocessor = ColumnTransformer(\n",
    "#     transformers=[\n",
    "#         ('drop', 'drop', cols_to_drop),\n",
    "#         ('ordinal', 'passthrough', ordinal_cols), \n",
    "#         ('minmax', MinMaxScaler(), minmax_cols),\n",
    "#         ('onehot', OneHotEncoder(drop='first'), onehot_cols)\n",
    "#     ],\n",
    "#     remainder='passthrough'\n",
    "# )\n",
    "\n",
    "# X_train['bairro'] = frequency_encoding(X_train, 'bairro')\n",
    "# X_train_processed = preprocessor.fit_transform(X_train)"
   ]
  },
  {
   "cell_type": "markdown",
   "id": "d348722e-0f74-41c0-a91b-defbc508ec62",
   "metadata": {},
   "source": [
    "## Train-Test Split"
   ]
  },
  {
   "cell_type": "code",
   "execution_count": 252,
   "id": "538dcc74-ca4b-42bb-a79d-971dfc8a9d39",
   "metadata": {},
   "outputs": [],
   "source": [
    "X_train, X_val, y_train, y_val = train_test_split(df_train_X, df_train_y, test_size = 0.2, random_state=42)"
   ]
  },
  {
   "cell_type": "markdown",
   "id": "5374897d-66db-4033-a05e-c44e6738ecc8",
   "metadata": {},
   "source": [
    "## XGBoost"
   ]
  },
  {
   "cell_type": "code",
   "execution_count": 253,
   "id": "482cc47b-b7a8-4238-84e1-b968ca6c7ba0",
   "metadata": {},
   "outputs": [],
   "source": [
    "import warnings\n",
    "\n",
    "warnings.filterwarnings('ignore')"
   ]
  },
  {
   "cell_type": "code",
   "execution_count": 254,
   "id": "a582319d-e96f-4759-ad8c-1a7329e4a8cb",
   "metadata": {},
   "outputs": [
    {
     "data": {
      "text/html": [
       "<style>#sk-container-id-4 {color: black;}#sk-container-id-4 pre{padding: 0;}#sk-container-id-4 div.sk-toggleable {background-color: white;}#sk-container-id-4 label.sk-toggleable__label {cursor: pointer;display: block;width: 100%;margin-bottom: 0;padding: 0.3em;box-sizing: border-box;text-align: center;}#sk-container-id-4 label.sk-toggleable__label-arrow:before {content: \"▸\";float: left;margin-right: 0.25em;color: #696969;}#sk-container-id-4 label.sk-toggleable__label-arrow:hover:before {color: black;}#sk-container-id-4 div.sk-estimator:hover label.sk-toggleable__label-arrow:before {color: black;}#sk-container-id-4 div.sk-toggleable__content {max-height: 0;max-width: 0;overflow: hidden;text-align: left;background-color: #f0f8ff;}#sk-container-id-4 div.sk-toggleable__content pre {margin: 0.2em;color: black;border-radius: 0.25em;background-color: #f0f8ff;}#sk-container-id-4 input.sk-toggleable__control:checked~div.sk-toggleable__content {max-height: 200px;max-width: 100%;overflow: auto;}#sk-container-id-4 input.sk-toggleable__control:checked~label.sk-toggleable__label-arrow:before {content: \"▾\";}#sk-container-id-4 div.sk-estimator input.sk-toggleable__control:checked~label.sk-toggleable__label {background-color: #d4ebff;}#sk-container-id-4 div.sk-label input.sk-toggleable__control:checked~label.sk-toggleable__label {background-color: #d4ebff;}#sk-container-id-4 input.sk-hidden--visually {border: 0;clip: rect(1px 1px 1px 1px);clip: rect(1px, 1px, 1px, 1px);height: 1px;margin: -1px;overflow: hidden;padding: 0;position: absolute;width: 1px;}#sk-container-id-4 div.sk-estimator {font-family: monospace;background-color: #f0f8ff;border: 1px dotted black;border-radius: 0.25em;box-sizing: border-box;margin-bottom: 0.5em;}#sk-container-id-4 div.sk-estimator:hover {background-color: #d4ebff;}#sk-container-id-4 div.sk-parallel-item::after {content: \"\";width: 100%;border-bottom: 1px solid gray;flex-grow: 1;}#sk-container-id-4 div.sk-label:hover label.sk-toggleable__label {background-color: #d4ebff;}#sk-container-id-4 div.sk-serial::before {content: \"\";position: absolute;border-left: 1px solid gray;box-sizing: border-box;top: 0;bottom: 0;left: 50%;z-index: 0;}#sk-container-id-4 div.sk-serial {display: flex;flex-direction: column;align-items: center;background-color: white;padding-right: 0.2em;padding-left: 0.2em;position: relative;}#sk-container-id-4 div.sk-item {position: relative;z-index: 1;}#sk-container-id-4 div.sk-parallel {display: flex;align-items: stretch;justify-content: center;background-color: white;position: relative;}#sk-container-id-4 div.sk-item::before, #sk-container-id-4 div.sk-parallel-item::before {content: \"\";position: absolute;border-left: 1px solid gray;box-sizing: border-box;top: 0;bottom: 0;left: 50%;z-index: -1;}#sk-container-id-4 div.sk-parallel-item {display: flex;flex-direction: column;z-index: 1;position: relative;background-color: white;}#sk-container-id-4 div.sk-parallel-item:first-child::after {align-self: flex-end;width: 50%;}#sk-container-id-4 div.sk-parallel-item:last-child::after {align-self: flex-start;width: 50%;}#sk-container-id-4 div.sk-parallel-item:only-child::after {width: 0;}#sk-container-id-4 div.sk-dashed-wrapped {border: 1px dashed gray;margin: 0 0.4em 0.5em 0.4em;box-sizing: border-box;padding-bottom: 0.4em;background-color: white;}#sk-container-id-4 div.sk-label label {font-family: monospace;font-weight: bold;display: inline-block;line-height: 1.2em;}#sk-container-id-4 div.sk-label-container {text-align: center;}#sk-container-id-4 div.sk-container {/* jupyter's `normalize.less` sets `[hidden] { display: none; }` but bootstrap.min.css set `[hidden] { display: none !important; }` so we also need the `!important` here to be able to override the default hidden behavior on the sphinx rendered scikit-learn.org. See: https://github.com/scikit-learn/scikit-learn/issues/21755 */display: inline-block !important;position: relative;}#sk-container-id-4 div.sk-text-repr-fallback {display: none;}</style><div id=\"sk-container-id-4\" class=\"sk-top-container\"><div class=\"sk-text-repr-fallback\"><pre>XGBRegressor(base_score=None, booster=None, callbacks=None,\n",
       "             colsample_bylevel=None, colsample_bynode=None,\n",
       "             colsample_bytree=None, device=None, early_stopping_rounds=None,\n",
       "             enable_categorical=False, eval_metric=None, feature_types=None,\n",
       "             gamma=None, grow_policy=None, importance_type=None,\n",
       "             interaction_constraints=None, learning_rate=None, max_bin=None,\n",
       "             max_cat_threshold=None, max_cat_to_onehot=None,\n",
       "             max_delta_step=None, max_depth=None, max_leaves=None,\n",
       "             min_child_weight=None, missing=nan, monotone_constraints=None,\n",
       "             multi_strategy=None, n_estimators=None, n_jobs=-1,\n",
       "             num_parallel_tree=None, random_state=None, ...)</pre><b>In a Jupyter environment, please rerun this cell to show the HTML representation or trust the notebook. <br />On GitHub, the HTML representation is unable to render, please try loading this page with nbviewer.org.</b></div><div class=\"sk-container\" hidden><div class=\"sk-item\"><div class=\"sk-estimator sk-toggleable\"><input class=\"sk-toggleable__control sk-hidden--visually\" id=\"sk-estimator-id-4\" type=\"checkbox\" checked><label for=\"sk-estimator-id-4\" class=\"sk-toggleable__label sk-toggleable__label-arrow\">XGBRegressor</label><div class=\"sk-toggleable__content\"><pre>XGBRegressor(base_score=None, booster=None, callbacks=None,\n",
       "             colsample_bylevel=None, colsample_bynode=None,\n",
       "             colsample_bytree=None, device=None, early_stopping_rounds=None,\n",
       "             enable_categorical=False, eval_metric=None, feature_types=None,\n",
       "             gamma=None, grow_policy=None, importance_type=None,\n",
       "             interaction_constraints=None, learning_rate=None, max_bin=None,\n",
       "             max_cat_threshold=None, max_cat_to_onehot=None,\n",
       "             max_delta_step=None, max_depth=None, max_leaves=None,\n",
       "             min_child_weight=None, missing=nan, monotone_constraints=None,\n",
       "             multi_strategy=None, n_estimators=None, n_jobs=-1,\n",
       "             num_parallel_tree=None, random_state=None, ...)</pre></div></div></div></div></div>"
      ],
      "text/plain": [
       "XGBRegressor(base_score=None, booster=None, callbacks=None,\n",
       "             colsample_bylevel=None, colsample_bynode=None,\n",
       "             colsample_bytree=None, device=None, early_stopping_rounds=None,\n",
       "             enable_categorical=False, eval_metric=None, feature_types=None,\n",
       "             gamma=None, grow_policy=None, importance_type=None,\n",
       "             interaction_constraints=None, learning_rate=None, max_bin=None,\n",
       "             max_cat_threshold=None, max_cat_to_onehot=None,\n",
       "             max_delta_step=None, max_depth=None, max_leaves=None,\n",
       "             min_child_weight=None, missing=nan, monotone_constraints=None,\n",
       "             multi_strategy=None, n_estimators=None, n_jobs=-1,\n",
       "             num_parallel_tree=None, random_state=None, ...)"
      ]
     },
     "execution_count": 254,
     "metadata": {},
     "output_type": "execute_result"
    }
   ],
   "source": [
    "from xgboost import XGBRegressor\n",
    "\n",
    "model = XGBRegressor(n_jobs=-1)\n",
    "\n",
    "model.fit(X_train, y_train)"
   ]
  },
  {
   "cell_type": "code",
   "execution_count": 255,
   "id": "62c91062-099a-41cf-87ac-7d76b7a681ef",
   "metadata": {},
   "outputs": [],
   "source": [
    "y_pred = model.predict(X_val)"
   ]
  },
  {
   "cell_type": "code",
   "execution_count": 256,
   "id": "37ebe4e1-03ee-4c5d-a9bc-ae738ec4f937",
   "metadata": {},
   "outputs": [],
   "source": [
    "def reg_metrics(y_true, y_pred):\n",
    "    mae = mean_absolute_error(y_true, y_pred)\n",
    "    mape = mean_absolute_percentage_error(y_true, y_pred)\n",
    "    rmse = np.sqrt(mean_squared_error(y_true, y_pred))\n",
    "\n",
    "    return pd.DataFrame(\n",
    "        {'MAE':mae,\n",
    "        'MAPE':mape,\n",
    "        'RMSE':rmse}, index=[0]\n",
    "    )"
   ]
  },
  {
   "cell_type": "code",
   "execution_count": 257,
   "id": "ab625dc9-b734-4938-b45d-507c061ca0f7",
   "metadata": {},
   "outputs": [
    {
     "data": {
      "text/html": [
       "<div>\n",
       "<style scoped>\n",
       "    .dataframe tbody tr th:only-of-type {\n",
       "        vertical-align: middle;\n",
       "    }\n",
       "\n",
       "    .dataframe tbody tr th {\n",
       "        vertical-align: top;\n",
       "    }\n",
       "\n",
       "    .dataframe thead th {\n",
       "        text-align: right;\n",
       "    }\n",
       "</style>\n",
       "<table border=\"1\" class=\"dataframe\">\n",
       "  <thead>\n",
       "    <tr style=\"text-align: right;\">\n",
       "      <th></th>\n",
       "      <th>MAE</th>\n",
       "      <th>MAPE</th>\n",
       "      <th>RMSE</th>\n",
       "    </tr>\n",
       "  </thead>\n",
       "  <tbody>\n",
       "    <tr>\n",
       "      <th>0</th>\n",
       "      <td>96559.03</td>\n",
       "      <td>0.18</td>\n",
       "      <td>151950.77</td>\n",
       "    </tr>\n",
       "  </tbody>\n",
       "</table>\n",
       "</div>"
      ],
      "text/plain": [
       "       MAE  MAPE      RMSE\n",
       "0 96559.03  0.18 151950.77"
      ]
     },
     "execution_count": 257,
     "metadata": {},
     "output_type": "execute_result"
    }
   ],
   "source": [
    "reg_metrics(y_val, y_pred)"
   ]
  },
  {
   "cell_type": "code",
   "execution_count": null,
   "id": "b88ee07a-f88b-408d-8dc8-6f1d6244445a",
   "metadata": {},
   "outputs": [],
   "source": []
  }
 ],
 "metadata": {
  "kernelspec": {
   "display_name": "Python 3 (ipykernel)",
   "language": "python",
   "name": "python3"
  },
  "language_info": {
   "codemirror_mode": {
    "name": "ipython",
    "version": 3
   },
   "file_extension": ".py",
   "mimetype": "text/x-python",
   "name": "python",
   "nbconvert_exporter": "python",
   "pygments_lexer": "ipython3",
   "version": "3.10.11"
  }
 },
 "nbformat": 4,
 "nbformat_minor": 5
}
