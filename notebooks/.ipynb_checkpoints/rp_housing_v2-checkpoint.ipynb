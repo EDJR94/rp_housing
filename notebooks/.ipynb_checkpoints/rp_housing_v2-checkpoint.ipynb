{
 "cells": [
  {
   "cell_type": "markdown",
   "id": "4a189a1c-5944-40d6-81f0-df2fc7c8e046",
   "metadata": {},
   "source": [
    "# Imports"
   ]
  },
  {
   "cell_type": "code",
   "execution_count": 151,
   "id": "a30605e8-03d4-46eb-ae61-1a8d2bbf4398",
   "metadata": {},
   "outputs": [],
   "source": [
    "import pandas as pd\n",
    "import numpy as np \n",
    "import seaborn as sns\n",
    "import matplotlib.pyplot as plt\n",
    "\n",
    "\n",
    "from sklearn.compose import ColumnTransformer\n",
    "from sklearn.pipeline import Pipeline\n",
    "from sklearn.preprocessing import StandardScaler, MinMaxScaler, LabelEncoder, OneHotEncoder\n",
    "from sklearn.model_selection import train_test_split\n",
    "from sklearn.metrics import mean_absolute_error, mean_squared_error, mean_absolute_percentage_error, r2_score\n",
    "\n",
    "sns.set_style('darkgrid')\n",
    "plt.style.use('ggplot')"
   ]
  },
  {
   "cell_type": "markdown",
   "id": "dd67548d-3eed-40b5-b187-2cbc8bed6a86",
   "metadata": {},
   "source": [
    "## Load Data"
   ]
  },
  {
   "cell_type": "code",
   "execution_count": 118,
   "id": "148e30a5-f32d-45f7-9604-1e7b604f5cbc",
   "metadata": {},
   "outputs": [],
   "source": [
    "path = '/home/edilson07/projects/rp_housing/notebooks/'\n",
    "\n",
    "df = pd.read_csv(path + 'gtp_analysis.csv')"
   ]
  },
  {
   "cell_type": "code",
   "execution_count": 119,
   "id": "7c840a35-ed4a-4134-9f73-f926baf6e9fe",
   "metadata": {},
   "outputs": [
    {
     "data": {
      "text/plain": [
       "(39860, 13)"
      ]
     },
     "execution_count": 119,
     "metadata": {},
     "output_type": "execute_result"
    }
   ],
   "source": [
    "df.shape"
   ]
  },
  {
   "cell_type": "code",
   "execution_count": 120,
   "id": "3a50886e-6653-47be-931c-4a239981a21b",
   "metadata": {},
   "outputs": [
    {
     "data": {
      "text/html": [
       "<div>\n",
       "<style scoped>\n",
       "    .dataframe tbody tr th:only-of-type {\n",
       "        vertical-align: middle;\n",
       "    }\n",
       "\n",
       "    .dataframe tbody tr th {\n",
       "        vertical-align: top;\n",
       "    }\n",
       "\n",
       "    .dataframe thead th {\n",
       "        text-align: right;\n",
       "    }\n",
       "</style>\n",
       "<table border=\"1\" class=\"dataframe\">\n",
       "  <thead>\n",
       "    <tr style=\"text-align: right;\">\n",
       "      <th></th>\n",
       "      <th>nome</th>\n",
       "      <th>preco</th>\n",
       "      <th>quartos</th>\n",
       "      <th>garagem</th>\n",
       "      <th>area</th>\n",
       "      <th>banheiros</th>\n",
       "      <th>condominio</th>\n",
       "      <th>link</th>\n",
       "      <th>tipo</th>\n",
       "      <th>bairro</th>\n",
       "      <th>latitude</th>\n",
       "      <th>longitude</th>\n",
       "      <th>regiao</th>\n",
       "    </tr>\n",
       "  </thead>\n",
       "  <tbody>\n",
       "    <tr>\n",
       "      <th>0</th>\n",
       "      <td>Vendo apartamento MRV (rio amazonas 1º andar, ...</td>\n",
       "      <td>180000.00</td>\n",
       "      <td>2</td>\n",
       "      <td>1</td>\n",
       "      <td>50</td>\n",
       "      <td>1</td>\n",
       "      <td>205.00</td>\n",
       "      <td>https://sp.olx.com.br/regiao-de-sao-jose-do-ri...</td>\n",
       "      <td>apartamento</td>\n",
       "      <td>Centro</td>\n",
       "      <td>-20.81</td>\n",
       "      <td>-49.38</td>\n",
       "      <td>Centro</td>\n",
       "    </tr>\n",
       "    <tr>\n",
       "      <th>1</th>\n",
       "      <td>Apartamento para venda em Jardim Santa Lúcia d...</td>\n",
       "      <td>150000.00</td>\n",
       "      <td>2</td>\n",
       "      <td>1</td>\n",
       "      <td>56</td>\n",
       "      <td>1</td>\n",
       "      <td>220.00</td>\n",
       "      <td>https://sp.olx.com.br/regiao-de-sao-jose-do-ri...</td>\n",
       "      <td>apartamento</td>\n",
       "      <td>Jardim Santa Lúcia</td>\n",
       "      <td>-20.80</td>\n",
       "      <td>-49.40</td>\n",
       "      <td>Cidade das Crianças</td>\n",
       "    </tr>\n",
       "    <tr>\n",
       "      <th>2</th>\n",
       "      <td>Apartamento para venda em Centenário Da Emanci...</td>\n",
       "      <td>140000.00</td>\n",
       "      <td>2</td>\n",
       "      <td>1</td>\n",
       "      <td>52</td>\n",
       "      <td>2</td>\n",
       "      <td>0.00</td>\n",
       "      <td>https://sp.olx.com.br/regiao-de-sao-jose-do-ri...</td>\n",
       "      <td>apartamento</td>\n",
       "      <td>Centenário da Emancipação</td>\n",
       "      <td>-20.76</td>\n",
       "      <td>-49.38</td>\n",
       "      <td>CEU</td>\n",
       "    </tr>\n",
       "    <tr>\n",
       "      <th>3</th>\n",
       "      <td>Apartamento para venda em Jardim Yolanda de 48...</td>\n",
       "      <td>170000.00</td>\n",
       "      <td>2</td>\n",
       "      <td>1</td>\n",
       "      <td>48</td>\n",
       "      <td>1</td>\n",
       "      <td>240.00</td>\n",
       "      <td>https://sp.olx.com.br/regiao-de-sao-jose-do-ri...</td>\n",
       "      <td>apartamento</td>\n",
       "      <td>Jardim Yolanda</td>\n",
       "      <td>-20.80</td>\n",
       "      <td>-49.35</td>\n",
       "      <td>Represa</td>\n",
       "    </tr>\n",
       "    <tr>\n",
       "      <th>4</th>\n",
       "      <td>Apartamento para venda em Eldorado de 60.00m² ...</td>\n",
       "      <td>128000.00</td>\n",
       "      <td>2</td>\n",
       "      <td>1</td>\n",
       "      <td>60</td>\n",
       "      <td>1</td>\n",
       "      <td>0.00</td>\n",
       "      <td>https://sp.olx.com.br/regiao-de-sao-jose-do-ri...</td>\n",
       "      <td>apartamento</td>\n",
       "      <td>Eldorado</td>\n",
       "      <td>-20.79</td>\n",
       "      <td>-49.40</td>\n",
       "      <td>Cidade das Crianças</td>\n",
       "    </tr>\n",
       "  </tbody>\n",
       "</table>\n",
       "</div>"
      ],
      "text/plain": [
       "                                                nome     preco  quartos  \\\n",
       "0  Vendo apartamento MRV (rio amazonas 1º andar, ... 180000.00        2   \n",
       "1  Apartamento para venda em Jardim Santa Lúcia d... 150000.00        2   \n",
       "2  Apartamento para venda em Centenário Da Emanci... 140000.00        2   \n",
       "3  Apartamento para venda em Jardim Yolanda de 48... 170000.00        2   \n",
       "4  Apartamento para venda em Eldorado de 60.00m² ... 128000.00        2   \n",
       "\n",
       "   garagem  area  banheiros  condominio  \\\n",
       "0        1    50          1      205.00   \n",
       "1        1    56          1      220.00   \n",
       "2        1    52          2        0.00   \n",
       "3        1    48          1      240.00   \n",
       "4        1    60          1        0.00   \n",
       "\n",
       "                                                link         tipo  \\\n",
       "0  https://sp.olx.com.br/regiao-de-sao-jose-do-ri...  apartamento   \n",
       "1  https://sp.olx.com.br/regiao-de-sao-jose-do-ri...  apartamento   \n",
       "2  https://sp.olx.com.br/regiao-de-sao-jose-do-ri...  apartamento   \n",
       "3  https://sp.olx.com.br/regiao-de-sao-jose-do-ri...  apartamento   \n",
       "4  https://sp.olx.com.br/regiao-de-sao-jose-do-ri...  apartamento   \n",
       "\n",
       "                       bairro  latitude  longitude               regiao  \n",
       "0                      Centro    -20.81     -49.38               Centro  \n",
       "1          Jardim Santa Lúcia    -20.80     -49.40  Cidade das Crianças  \n",
       "2   Centenário da Emancipação    -20.76     -49.38                  CEU  \n",
       "3              Jardim Yolanda    -20.80     -49.35              Represa  \n",
       "4                    Eldorado    -20.79     -49.40  Cidade das Crianças  "
      ]
     },
     "execution_count": 120,
     "metadata": {},
     "output_type": "execute_result"
    }
   ],
   "source": [
    "df.head()"
   ]
  },
  {
   "cell_type": "markdown",
   "id": "244239d5-cb49-4846-88f8-a94712df2e58",
   "metadata": {},
   "source": [
    "# Data Description"
   ]
  },
  {
   "cell_type": "code",
   "execution_count": 121,
   "id": "addd1ea7-4e09-4456-b7dc-34fbbaba1297",
   "metadata": {},
   "outputs": [
    {
     "name": "stdout",
     "output_type": "stream",
     "text": [
      "<class 'pandas.core.frame.DataFrame'>\n",
      "RangeIndex: 39860 entries, 0 to 39859\n",
      "Data columns (total 13 columns):\n",
      " #   Column      Non-Null Count  Dtype  \n",
      "---  ------      --------------  -----  \n",
      " 0   nome        39860 non-null  object \n",
      " 1   preco       39860 non-null  float64\n",
      " 2   quartos     39860 non-null  int64  \n",
      " 3   garagem     39860 non-null  int64  \n",
      " 4   area        39860 non-null  int64  \n",
      " 5   banheiros   39860 non-null  int64  \n",
      " 6   condominio  39860 non-null  float64\n",
      " 7   link        39860 non-null  object \n",
      " 8   tipo        39860 non-null  object \n",
      " 9   bairro      39860 non-null  object \n",
      " 10  latitude    39860 non-null  float64\n",
      " 11  longitude   39860 non-null  float64\n",
      " 12  regiao      39860 non-null  object \n",
      "dtypes: float64(4), int64(4), object(5)\n",
      "memory usage: 4.0+ MB\n"
     ]
    }
   ],
   "source": [
    "df.info()"
   ]
  },
  {
   "cell_type": "code",
   "execution_count": 122,
   "id": "2ba5e457-8f34-480a-94ec-c5b407aea639",
   "metadata": {},
   "outputs": [],
   "source": [
    "pd.set_option('display.float_format', '{:.2f}'.format)"
   ]
  },
  {
   "cell_type": "code",
   "execution_count": 123,
   "id": "fdc2babc-ac3f-43af-8c2f-c4b49f85ed97",
   "metadata": {},
   "outputs": [
    {
     "data": {
      "text/html": [
       "<div>\n",
       "<style scoped>\n",
       "    .dataframe tbody tr th:only-of-type {\n",
       "        vertical-align: middle;\n",
       "    }\n",
       "\n",
       "    .dataframe tbody tr th {\n",
       "        vertical-align: top;\n",
       "    }\n",
       "\n",
       "    .dataframe thead th {\n",
       "        text-align: right;\n",
       "    }\n",
       "</style>\n",
       "<table border=\"1\" class=\"dataframe\">\n",
       "  <thead>\n",
       "    <tr style=\"text-align: right;\">\n",
       "      <th></th>\n",
       "      <th>preco</th>\n",
       "      <th>quartos</th>\n",
       "      <th>garagem</th>\n",
       "      <th>area</th>\n",
       "      <th>banheiros</th>\n",
       "      <th>condominio</th>\n",
       "      <th>latitude</th>\n",
       "      <th>longitude</th>\n",
       "    </tr>\n",
       "  </thead>\n",
       "  <tbody>\n",
       "    <tr>\n",
       "      <th>count</th>\n",
       "      <td>39860.00</td>\n",
       "      <td>39860.00</td>\n",
       "      <td>39860.00</td>\n",
       "      <td>39860.00</td>\n",
       "      <td>39860.00</td>\n",
       "      <td>39860.00</td>\n",
       "      <td>39860.00</td>\n",
       "      <td>39860.00</td>\n",
       "    </tr>\n",
       "    <tr>\n",
       "      <th>mean</th>\n",
       "      <td>886400.61</td>\n",
       "      <td>2.82</td>\n",
       "      <td>2.47</td>\n",
       "      <td>201.52</td>\n",
       "      <td>2.86</td>\n",
       "      <td>205.86</td>\n",
       "      <td>-20.81</td>\n",
       "      <td>-49.37</td>\n",
       "    </tr>\n",
       "    <tr>\n",
       "      <th>std</th>\n",
       "      <td>990851.11</td>\n",
       "      <td>0.75</td>\n",
       "      <td>1.27</td>\n",
       "      <td>2359.17</td>\n",
       "      <td>1.43</td>\n",
       "      <td>250.49</td>\n",
       "      <td>0.03</td>\n",
       "      <td>0.03</td>\n",
       "    </tr>\n",
       "    <tr>\n",
       "      <th>min</th>\n",
       "      <td>15000.00</td>\n",
       "      <td>1.00</td>\n",
       "      <td>1.00</td>\n",
       "      <td>10.00</td>\n",
       "      <td>1.00</td>\n",
       "      <td>0.00</td>\n",
       "      <td>-20.90</td>\n",
       "      <td>-49.46</td>\n",
       "    </tr>\n",
       "    <tr>\n",
       "      <th>25%</th>\n",
       "      <td>290000.00</td>\n",
       "      <td>2.00</td>\n",
       "      <td>1.00</td>\n",
       "      <td>80.00</td>\n",
       "      <td>2.00</td>\n",
       "      <td>0.00</td>\n",
       "      <td>-20.83</td>\n",
       "      <td>-49.39</td>\n",
       "    </tr>\n",
       "    <tr>\n",
       "      <th>50%</th>\n",
       "      <td>500000.00</td>\n",
       "      <td>3.00</td>\n",
       "      <td>2.00</td>\n",
       "      <td>140.00</td>\n",
       "      <td>3.00</td>\n",
       "      <td>1.80</td>\n",
       "      <td>-20.81</td>\n",
       "      <td>-49.38</td>\n",
       "    </tr>\n",
       "    <tr>\n",
       "      <th>75%</th>\n",
       "      <td>1150000.00</td>\n",
       "      <td>3.00</td>\n",
       "      <td>4.00</td>\n",
       "      <td>225.00</td>\n",
       "      <td>4.00</td>\n",
       "      <td>380.00</td>\n",
       "      <td>-20.80</td>\n",
       "      <td>-49.35</td>\n",
       "    </tr>\n",
       "    <tr>\n",
       "      <th>max</th>\n",
       "      <td>17000000.00</td>\n",
       "      <td>5.00</td>\n",
       "      <td>5.00</td>\n",
       "      <td>276161.00</td>\n",
       "      <td>5.00</td>\n",
       "      <td>995.00</td>\n",
       "      <td>-20.71</td>\n",
       "      <td>-49.29</td>\n",
       "    </tr>\n",
       "  </tbody>\n",
       "</table>\n",
       "</div>"
      ],
      "text/plain": [
       "            preco  quartos  garagem      area  banheiros  condominio  \\\n",
       "count    39860.00 39860.00 39860.00  39860.00   39860.00    39860.00   \n",
       "mean    886400.61     2.82     2.47    201.52       2.86      205.86   \n",
       "std     990851.11     0.75     1.27   2359.17       1.43      250.49   \n",
       "min      15000.00     1.00     1.00     10.00       1.00        0.00   \n",
       "25%     290000.00     2.00     1.00     80.00       2.00        0.00   \n",
       "50%     500000.00     3.00     2.00    140.00       3.00        1.80   \n",
       "75%    1150000.00     3.00     4.00    225.00       4.00      380.00   \n",
       "max   17000000.00     5.00     5.00 276161.00       5.00      995.00   \n",
       "\n",
       "       latitude  longitude  \n",
       "count  39860.00   39860.00  \n",
       "mean     -20.81     -49.37  \n",
       "std        0.03       0.03  \n",
       "min      -20.90     -49.46  \n",
       "25%      -20.83     -49.39  \n",
       "50%      -20.81     -49.38  \n",
       "75%      -20.80     -49.35  \n",
       "max      -20.71     -49.29  "
      ]
     },
     "execution_count": 123,
     "metadata": {},
     "output_type": "execute_result"
    }
   ],
   "source": [
    "df.describe()"
   ]
  },
  {
   "cell_type": "markdown",
   "id": "d8f1f21b-f55a-4f08-aa7f-d37c79dd2e11",
   "metadata": {},
   "source": [
    "## Target Variable(Price)"
   ]
  },
  {
   "cell_type": "code",
   "execution_count": 124,
   "id": "6aa3b71b-1886-4bcf-b68f-ffd09b26ee3f",
   "metadata": {},
   "outputs": [
    {
     "data": {
      "text/plain": [
       "<Axes: ylabel='preco'>"
      ]
     },
     "execution_count": 124,
     "metadata": {},
     "output_type": "execute_result"
    },
    {
     "data": {
      "image/png": "[encoded data removed]",
      "text/plain": [
       "<Figure size 640x480 with 1 Axes>"
      ]
     },
     "metadata": {},
     "output_type": "display_data"
    }
   ],
   "source": [
    "sns.boxplot(df['preco'])"
   ]
  },
  {
   "cell_type": "code",
   "execution_count": 125,
   "id": "c73cf77c-3570-481b-a172-d88687975d1b",
   "metadata": {},
   "outputs": [
    {
     "data": {
      "text/plain": [
       "<Axes: xlabel='preco', ylabel='Count'>"
      ]
     },
     "execution_count": 125,
     "metadata": {},
     "output_type": "execute_result"
    },
    {
     "data": {
      "image/png": "[encoded data removed]",
      "text/plain": [
       "<Figure size 640x480 with 1 Axes>"
      ]
     },
     "metadata": {},
     "output_type": "display_data"
    }
   ],
   "source": [
    "sns.histplot(df['preco'], bins=25)"
   ]
  },
  {
   "cell_type": "markdown",
   "id": "bd4d6e56-1a69-4d8d-8dfa-77c619484ef1",
   "metadata": {},
   "source": [
    "## Area outlier"
   ]
  },
  {
   "cell_type": "code",
   "execution_count": 154,
   "id": "172f2174-a15b-44e2-96d4-c3aa704b652b",
   "metadata": {},
   "outputs": [
    {
     "data": {
      "text/plain": [
       "<Axes: ylabel='area'>"
      ]
     },
     "execution_count": 154,
     "metadata": {},
     "output_type": "execute_result"
    },
    {
     "data": {
      "image/png": "[encoded data removed]",
      "text/plain": [
       "<Figure size 640x480 with 1 Axes>"
      ]
     },
     "metadata": {},
     "output_type": "display_data"
    }
   ],
   "source": [
    "sns.boxplot(df['area'])"
   ]
  },
  {
   "cell_type": "code",
   "execution_count": 127,
   "id": "0fb738a1-f62d-487c-ac8d-b3162fa7056b",
   "metadata": {},
   "outputs": [],
   "source": [
    "df = df.loc[df['area'] < 4000,:]"
   ]
  },
  {
   "cell_type": "markdown",
   "id": "da74328a-8139-43c8-9fda-40c87447c8a6",
   "metadata": {},
   "source": [
    "## Condominio outlier"
   ]
  },
  {
   "cell_type": "code",
   "execution_count": 128,
   "id": "eed9b39b-56a6-4035-8afb-c1ce2d61d343",
   "metadata": {},
   "outputs": [
    {
     "data": {
      "text/plain": [
       "<Axes: ylabel='condominio'>"
      ]
     },
     "execution_count": 128,
     "metadata": {},
     "output_type": "execute_result"
    },
    {
     "data": {
      "image/png": "[encoded data removed]",
      "text/plain": [
       "<Figure size 640x480 with 1 Axes>"
      ]
     },
     "metadata": {},
     "output_type": "display_data"
    }
   ],
   "source": [
    "sns.boxplot(df['condominio'])"
   ]
  },
  {
   "cell_type": "markdown",
   "id": "71ab56d7-a71f-4251-b36c-795efe970147",
   "metadata": {},
   "source": [
    "## Outlier with IQR"
   ]
  },
  {
   "cell_type": "code",
   "execution_count": 139,
   "id": "426482f7-0a91-44cc-9109-83145d3fec82",
   "metadata": {},
   "outputs": [],
   "source": [
    "# Calculando o IQR para a coluna 'preco'\n",
    "Q1 = df['preco'].quantile(0.25)\n",
    "Q3 = df['preco'].quantile(0.75)\n",
    "IQR = Q3 - Q1\n",
    "\n",
    "# Definindo os limites inferior e superior\n",
    "lower_limit = Q1 - 1.5 * IQR\n",
    "upper_limit = Q3 + 1.5 * IQR\n",
    "\n",
    "# Filtrando o dataset para remover outliers\n",
    "data_cleaned = df[(df['preco'] >= lower_limit) & (df['preco'] <= upper_limit)]\n",
    "\n",
    "# Calculando o IQR para a coluna 'area'\n",
    "Q1 = df['area'].quantile(0.25)\n",
    "Q3 = df['area'].quantile(0.75)\n",
    "IQR = Q3 - Q1\n",
    "\n",
    "# Definindo os limites para outliers\n",
    "lower_bound = Q1 - 1.5 * IQR\n",
    "upper_bound = Q3 + 1.5 * IQR\n",
    "\n",
    "# Filtrando os dados para remover outliers\n",
    "data_cleaned = data_cleaned[(data_cleaned['area'] >= lower_bound) & (data_cleaned['area'] <= upper_bound)]"
   ]
  },
  {
   "cell_type": "code",
   "execution_count": 140,
   "id": "8a839aef-7b8d-4866-be60-de6fb2c904a8",
   "metadata": {},
   "outputs": [
    {
     "data": {
      "text/plain": [
       "(36609, 13)"
      ]
     },
     "execution_count": 140,
     "metadata": {},
     "output_type": "execute_result"
    }
   ],
   "source": [
    "data_cleaned.shape"
   ]
  },
  {
   "cell_type": "markdown",
   "id": "b4f3d4d2-0b62-4fb9-aef4-fd6f71f892cc",
   "metadata": {},
   "source": [
    "# Preprocess"
   ]
  },
  {
   "cell_type": "code",
   "execution_count": 141,
   "id": "007b62d5-8a8a-40a4-80a1-6068e1f02919",
   "metadata": {},
   "outputs": [],
   "source": [
    "# Definindo as colunas que serão escalonadas\n",
    "cols_to_scale = ['quartos', 'garagem', 'area', 'banheiros', 'condominio', 'latitude', 'longitude']\n",
    "\n",
    "# Inicializando o escalonador\n",
    "scaler = StandardScaler()\n",
    "\n",
    "# Escalonando as colunas\n",
    "data_cleaned[cols_to_scale] = scaler.fit_transform(data_cleaned[cols_to_scale])\n",
    "\n",
    "# Verificando as primeiras linhas do dataset após o escalonamento\n",
    "data_cleaned[cols_to_scale].head()\n",
    "\n",
    "# Codificando a variável 'regiao' usando one-hot encoding\n",
    "data_cleaned = pd.get_dummies(data_cleaned, columns=['regiao'])\n",
    "\n",
    "# Criando uma codificação de frequência para a coluna 'bairro'\n",
    "bairro_freq = data_cleaned['bairro'].value_counts(normalize=True)\n",
    "data_cleaned['bairro'] = data_cleaned['bairro'].map(bairro_freq)\n",
    "\n",
    "data_cleaned['tipo'] = data_cleaned['tipo'].apply(lambda x: 1 if  x == 'casa' else 0)"
   ]
  },
  {
   "cell_type": "code",
   "execution_count": 142,
   "id": "38f44915-e920-48ca-a0ba-52d4e56d63d0",
   "metadata": {},
   "outputs": [
    {
     "data": {
      "text/html": [
       "<div>\n",
       "<style scoped>\n",
       "    .dataframe tbody tr th:only-of-type {\n",
       "        vertical-align: middle;\n",
       "    }\n",
       "\n",
       "    .dataframe tbody tr th {\n",
       "        vertical-align: top;\n",
       "    }\n",
       "\n",
       "    .dataframe thead th {\n",
       "        text-align: right;\n",
       "    }\n",
       "</style>\n",
       "<table border=\"1\" class=\"dataframe\">\n",
       "  <thead>\n",
       "    <tr style=\"text-align: right;\">\n",
       "      <th></th>\n",
       "      <th>nome</th>\n",
       "      <th>preco</th>\n",
       "      <th>quartos</th>\n",
       "      <th>garagem</th>\n",
       "      <th>area</th>\n",
       "      <th>banheiros</th>\n",
       "      <th>condominio</th>\n",
       "      <th>link</th>\n",
       "      <th>tipo</th>\n",
       "      <th>bairro</th>\n",
       "      <th>...</th>\n",
       "      <th>regiao_BOSQUE</th>\n",
       "      <th>regiao_CEU</th>\n",
       "      <th>regiao_Centro</th>\n",
       "      <th>regiao_Cidade das Crianças</th>\n",
       "      <th>regiao_HB</th>\n",
       "      <th>regiao_Pinheirinho</th>\n",
       "      <th>regiao_Represa</th>\n",
       "      <th>regiao_Schimidt</th>\n",
       "      <th>regiao_Talhados</th>\n",
       "      <th>regiao_Vila Toninho</th>\n",
       "    </tr>\n",
       "  </thead>\n",
       "  <tbody>\n",
       "    <tr>\n",
       "      <th>0</th>\n",
       "      <td>Vendo apartamento MRV (rio amazonas 1º andar, ...</td>\n",
       "      <td>180000.00</td>\n",
       "      <td>-1.06</td>\n",
       "      <td>-1.10</td>\n",
       "      <td>-1.15</td>\n",
       "      <td>-1.25</td>\n",
       "      <td>0.03</td>\n",
       "      <td>https://sp.olx.com.br/regiao-de-sao-jose-do-ri...</td>\n",
       "      <td>0</td>\n",
       "      <td>0.05</td>\n",
       "      <td>...</td>\n",
       "      <td>False</td>\n",
       "      <td>False</td>\n",
       "      <td>True</td>\n",
       "      <td>False</td>\n",
       "      <td>False</td>\n",
       "      <td>False</td>\n",
       "      <td>False</td>\n",
       "      <td>False</td>\n",
       "      <td>False</td>\n",
       "      <td>False</td>\n",
       "    </tr>\n",
       "    <tr>\n",
       "      <th>1</th>\n",
       "      <td>Apartamento para venda em Jardim Santa Lúcia d...</td>\n",
       "      <td>150000.00</td>\n",
       "      <td>-1.06</td>\n",
       "      <td>-1.10</td>\n",
       "      <td>-1.08</td>\n",
       "      <td>-1.25</td>\n",
       "      <td>0.09</td>\n",
       "      <td>https://sp.olx.com.br/regiao-de-sao-jose-do-ri...</td>\n",
       "      <td>0</td>\n",
       "      <td>0.00</td>\n",
       "      <td>...</td>\n",
       "      <td>False</td>\n",
       "      <td>False</td>\n",
       "      <td>False</td>\n",
       "      <td>True</td>\n",
       "      <td>False</td>\n",
       "      <td>False</td>\n",
       "      <td>False</td>\n",
       "      <td>False</td>\n",
       "      <td>False</td>\n",
       "      <td>False</td>\n",
       "    </tr>\n",
       "    <tr>\n",
       "      <th>2</th>\n",
       "      <td>Apartamento para venda em Centenário Da Emanci...</td>\n",
       "      <td>140000.00</td>\n",
       "      <td>-1.06</td>\n",
       "      <td>-1.10</td>\n",
       "      <td>-1.13</td>\n",
       "      <td>-0.51</td>\n",
       "      <td>-0.84</td>\n",
       "      <td>https://sp.olx.com.br/regiao-de-sao-jose-do-ri...</td>\n",
       "      <td>0</td>\n",
       "      <td>0.00</td>\n",
       "      <td>...</td>\n",
       "      <td>False</td>\n",
       "      <td>True</td>\n",
       "      <td>False</td>\n",
       "      <td>False</td>\n",
       "      <td>False</td>\n",
       "      <td>False</td>\n",
       "      <td>False</td>\n",
       "      <td>False</td>\n",
       "      <td>False</td>\n",
       "      <td>False</td>\n",
       "    </tr>\n",
       "    <tr>\n",
       "      <th>3</th>\n",
       "      <td>Apartamento para venda em Jardim Yolanda de 48...</td>\n",
       "      <td>170000.00</td>\n",
       "      <td>-1.06</td>\n",
       "      <td>-1.10</td>\n",
       "      <td>-1.17</td>\n",
       "      <td>-1.25</td>\n",
       "      <td>0.18</td>\n",
       "      <td>https://sp.olx.com.br/regiao-de-sao-jose-do-ri...</td>\n",
       "      <td>0</td>\n",
       "      <td>0.02</td>\n",
       "      <td>...</td>\n",
       "      <td>False</td>\n",
       "      <td>False</td>\n",
       "      <td>False</td>\n",
       "      <td>False</td>\n",
       "      <td>False</td>\n",
       "      <td>False</td>\n",
       "      <td>True</td>\n",
       "      <td>False</td>\n",
       "      <td>False</td>\n",
       "      <td>False</td>\n",
       "    </tr>\n",
       "    <tr>\n",
       "      <th>4</th>\n",
       "      <td>Apartamento para venda em Eldorado de 60.00m² ...</td>\n",
       "      <td>128000.00</td>\n",
       "      <td>-1.06</td>\n",
       "      <td>-1.10</td>\n",
       "      <td>-1.03</td>\n",
       "      <td>-1.25</td>\n",
       "      <td>-0.84</td>\n",
       "      <td>https://sp.olx.com.br/regiao-de-sao-jose-do-ri...</td>\n",
       "      <td>0</td>\n",
       "      <td>0.01</td>\n",
       "      <td>...</td>\n",
       "      <td>False</td>\n",
       "      <td>False</td>\n",
       "      <td>False</td>\n",
       "      <td>True</td>\n",
       "      <td>False</td>\n",
       "      <td>False</td>\n",
       "      <td>False</td>\n",
       "      <td>False</td>\n",
       "      <td>False</td>\n",
       "      <td>False</td>\n",
       "    </tr>\n",
       "  </tbody>\n",
       "</table>\n",
       "<p>5 rows × 22 columns</p>\n",
       "</div>"
      ],
      "text/plain": [
       "                                                nome     preco  quartos  \\\n",
       "0  Vendo apartamento MRV (rio amazonas 1º andar, ... 180000.00    -1.06   \n",
       "1  Apartamento para venda em Jardim Santa Lúcia d... 150000.00    -1.06   \n",
       "2  Apartamento para venda em Centenário Da Emanci... 140000.00    -1.06   \n",
       "3  Apartamento para venda em Jardim Yolanda de 48... 170000.00    -1.06   \n",
       "4  Apartamento para venda em Eldorado de 60.00m² ... 128000.00    -1.06   \n",
       "\n",
       "   garagem  area  banheiros  condominio  \\\n",
       "0    -1.10 -1.15      -1.25        0.03   \n",
       "1    -1.10 -1.08      -1.25        0.09   \n",
       "2    -1.10 -1.13      -0.51       -0.84   \n",
       "3    -1.10 -1.17      -1.25        0.18   \n",
       "4    -1.10 -1.03      -1.25       -0.84   \n",
       "\n",
       "                                                link  tipo  bairro  ...  \\\n",
       "0  https://sp.olx.com.br/regiao-de-sao-jose-do-ri...     0    0.05  ...   \n",
       "1  https://sp.olx.com.br/regiao-de-sao-jose-do-ri...     0    0.00  ...   \n",
       "2  https://sp.olx.com.br/regiao-de-sao-jose-do-ri...     0    0.00  ...   \n",
       "3  https://sp.olx.com.br/regiao-de-sao-jose-do-ri...     0    0.02  ...   \n",
       "4  https://sp.olx.com.br/regiao-de-sao-jose-do-ri...     0    0.01  ...   \n",
       "\n",
       "   regiao_BOSQUE  regiao_CEU  regiao_Centro  regiao_Cidade das Crianças  \\\n",
       "0          False       False           True                       False   \n",
       "1          False       False          False                        True   \n",
       "2          False        True          False                       False   \n",
       "3          False       False          False                       False   \n",
       "4          False       False          False                        True   \n",
       "\n",
       "   regiao_HB  regiao_Pinheirinho  regiao_Represa  regiao_Schimidt  \\\n",
       "0      False               False           False            False   \n",
       "1      False               False           False            False   \n",
       "2      False               False           False            False   \n",
       "3      False               False            True            False   \n",
       "4      False               False           False            False   \n",
       "\n",
       "   regiao_Talhados  regiao_Vila Toninho  \n",
       "0            False                False  \n",
       "1            False                False  \n",
       "2            False                False  \n",
       "3            False                False  \n",
       "4            False                False  \n",
       "\n",
       "[5 rows x 22 columns]"
      ]
     },
     "execution_count": 142,
     "metadata": {},
     "output_type": "execute_result"
    }
   ],
   "source": [
    "data_cleaned.head()"
   ]
  },
  {
   "cell_type": "markdown",
   "id": "2efafb94-ddd7-420e-a9f3-694149a46c12",
   "metadata": {},
   "source": [
    "# Machine Learning"
   ]
  },
  {
   "cell_type": "code",
   "execution_count": 143,
   "id": "3c7bb722-4a9c-4fa3-84f0-67e22391b49a",
   "metadata": {},
   "outputs": [],
   "source": [
    "X = data_cleaned.drop(['nome','preco','link'], axis=1)\n",
    "y = data_cleaned['preco']"
   ]
  },
  {
   "cell_type": "code",
   "execution_count": 144,
   "id": "e27f4449-2962-4419-ba21-fc4913ac94ea",
   "metadata": {},
   "outputs": [
    {
     "data": {
      "text/html": [
       "<div>\n",
       "<style scoped>\n",
       "    .dataframe tbody tr th:only-of-type {\n",
       "        vertical-align: middle;\n",
       "    }\n",
       "\n",
       "    .dataframe tbody tr th {\n",
       "        vertical-align: top;\n",
       "    }\n",
       "\n",
       "    .dataframe thead th {\n",
       "        text-align: right;\n",
       "    }\n",
       "</style>\n",
       "<table border=\"1\" class=\"dataframe\">\n",
       "  <thead>\n",
       "    <tr style=\"text-align: right;\">\n",
       "      <th></th>\n",
       "      <th>quartos</th>\n",
       "      <th>garagem</th>\n",
       "      <th>area</th>\n",
       "      <th>banheiros</th>\n",
       "      <th>condominio</th>\n",
       "      <th>tipo</th>\n",
       "      <th>bairro</th>\n",
       "      <th>latitude</th>\n",
       "      <th>longitude</th>\n",
       "      <th>regiao_BOSQUE</th>\n",
       "      <th>regiao_CEU</th>\n",
       "      <th>regiao_Centro</th>\n",
       "      <th>regiao_Cidade das Crianças</th>\n",
       "      <th>regiao_HB</th>\n",
       "      <th>regiao_Pinheirinho</th>\n",
       "      <th>regiao_Represa</th>\n",
       "      <th>regiao_Schimidt</th>\n",
       "      <th>regiao_Talhados</th>\n",
       "      <th>regiao_Vila Toninho</th>\n",
       "    </tr>\n",
       "  </thead>\n",
       "  <tbody>\n",
       "    <tr>\n",
       "      <th>0</th>\n",
       "      <td>-1.06</td>\n",
       "      <td>-1.10</td>\n",
       "      <td>-1.15</td>\n",
       "      <td>-1.25</td>\n",
       "      <td>0.03</td>\n",
       "      <td>0</td>\n",
       "      <td>0.05</td>\n",
       "      <td>-0.03</td>\n",
       "      <td>-0.22</td>\n",
       "      <td>False</td>\n",
       "      <td>False</td>\n",
       "      <td>True</td>\n",
       "      <td>False</td>\n",
       "      <td>False</td>\n",
       "      <td>False</td>\n",
       "      <td>False</td>\n",
       "      <td>False</td>\n",
       "      <td>False</td>\n",
       "      <td>False</td>\n",
       "    </tr>\n",
       "    <tr>\n",
       "      <th>1</th>\n",
       "      <td>-1.06</td>\n",
       "      <td>-1.10</td>\n",
       "      <td>-1.08</td>\n",
       "      <td>-1.25</td>\n",
       "      <td>0.09</td>\n",
       "      <td>0</td>\n",
       "      <td>0.00</td>\n",
       "      <td>0.46</td>\n",
       "      <td>-1.04</td>\n",
       "      <td>False</td>\n",
       "      <td>False</td>\n",
       "      <td>False</td>\n",
       "      <td>True</td>\n",
       "      <td>False</td>\n",
       "      <td>False</td>\n",
       "      <td>False</td>\n",
       "      <td>False</td>\n",
       "      <td>False</td>\n",
       "      <td>False</td>\n",
       "    </tr>\n",
       "    <tr>\n",
       "      <th>2</th>\n",
       "      <td>-1.06</td>\n",
       "      <td>-1.10</td>\n",
       "      <td>-1.13</td>\n",
       "      <td>-0.51</td>\n",
       "      <td>-0.84</td>\n",
       "      <td>0</td>\n",
       "      <td>0.00</td>\n",
       "      <td>1.84</td>\n",
       "      <td>-0.25</td>\n",
       "      <td>False</td>\n",
       "      <td>True</td>\n",
       "      <td>False</td>\n",
       "      <td>False</td>\n",
       "      <td>False</td>\n",
       "      <td>False</td>\n",
       "      <td>False</td>\n",
       "      <td>False</td>\n",
       "      <td>False</td>\n",
       "      <td>False</td>\n",
       "    </tr>\n",
       "    <tr>\n",
       "      <th>3</th>\n",
       "      <td>-1.06</td>\n",
       "      <td>-1.10</td>\n",
       "      <td>-1.17</td>\n",
       "      <td>-1.25</td>\n",
       "      <td>0.18</td>\n",
       "      <td>0</td>\n",
       "      <td>0.02</td>\n",
       "      <td>0.28</td>\n",
       "      <td>0.87</td>\n",
       "      <td>False</td>\n",
       "      <td>False</td>\n",
       "      <td>False</td>\n",
       "      <td>False</td>\n",
       "      <td>False</td>\n",
       "      <td>False</td>\n",
       "      <td>True</td>\n",
       "      <td>False</td>\n",
       "      <td>False</td>\n",
       "      <td>False</td>\n",
       "    </tr>\n",
       "    <tr>\n",
       "      <th>4</th>\n",
       "      <td>-1.06</td>\n",
       "      <td>-1.10</td>\n",
       "      <td>-1.03</td>\n",
       "      <td>-1.25</td>\n",
       "      <td>-0.84</td>\n",
       "      <td>0</td>\n",
       "      <td>0.01</td>\n",
       "      <td>0.79</td>\n",
       "      <td>-1.03</td>\n",
       "      <td>False</td>\n",
       "      <td>False</td>\n",
       "      <td>False</td>\n",
       "      <td>True</td>\n",
       "      <td>False</td>\n",
       "      <td>False</td>\n",
       "      <td>False</td>\n",
       "      <td>False</td>\n",
       "      <td>False</td>\n",
       "      <td>False</td>\n",
       "    </tr>\n",
       "  </tbody>\n",
       "</table>\n",
       "</div>"
      ],
      "text/plain": [
       "   quartos  garagem  area  banheiros  condominio  tipo  bairro  latitude  \\\n",
       "0    -1.06    -1.10 -1.15      -1.25        0.03     0    0.05     -0.03   \n",
       "1    -1.06    -1.10 -1.08      -1.25        0.09     0    0.00      0.46   \n",
       "2    -1.06    -1.10 -1.13      -0.51       -0.84     0    0.00      1.84   \n",
       "3    -1.06    -1.10 -1.17      -1.25        0.18     0    0.02      0.28   \n",
       "4    -1.06    -1.10 -1.03      -1.25       -0.84     0    0.01      0.79   \n",
       "\n",
       "   longitude  regiao_BOSQUE  regiao_CEU  regiao_Centro  \\\n",
       "0      -0.22          False       False           True   \n",
       "1      -1.04          False       False          False   \n",
       "2      -0.25          False        True          False   \n",
       "3       0.87          False       False          False   \n",
       "4      -1.03          False       False          False   \n",
       "\n",
       "   regiao_Cidade das Crianças  regiao_HB  regiao_Pinheirinho  regiao_Represa  \\\n",
       "0                       False      False               False           False   \n",
       "1                        True      False               False           False   \n",
       "2                       False      False               False           False   \n",
       "3                       False      False               False            True   \n",
       "4                        True      False               False           False   \n",
       "\n",
       "   regiao_Schimidt  regiao_Talhados  regiao_Vila Toninho  \n",
       "0            False            False                False  \n",
       "1            False            False                False  \n",
       "2            False            False                False  \n",
       "3            False            False                False  \n",
       "4            False            False                False  "
      ]
     },
     "execution_count": 144,
     "metadata": {},
     "output_type": "execute_result"
    }
   ],
   "source": [
    "X.head()"
   ]
  },
  {
   "cell_type": "code",
   "execution_count": 145,
   "id": "9ff8dd93-e357-4d3f-84fd-ea4a14b633ed",
   "metadata": {},
   "outputs": [],
   "source": [
    "X_train, X_test, y_train, y_test = train_test_split(X, y, test_size=0.2, random_state=42)"
   ]
  },
  {
   "cell_type": "code",
   "execution_count": 146,
   "id": "d9ceb145-d146-4056-9248-e0099069ec5b",
   "metadata": {},
   "outputs": [
    {
     "data": {
      "text/plain": [
       "((29287, 19), (7322, 19))"
      ]
     },
     "execution_count": 146,
     "metadata": {},
     "output_type": "execute_result"
    }
   ],
   "source": [
    "X_train.shape, X_test.shape"
   ]
  },
  {
   "cell_type": "code",
   "execution_count": 148,
   "id": "b88ee07a-f88b-408d-8dc8-6f1d6244445a",
   "metadata": {},
   "outputs": [
    {
     "data": {
      "text/html": [
       "<style>#sk-container-id-1 {color: black;}#sk-container-id-1 pre{padding: 0;}#sk-container-id-1 div.sk-toggleable {background-color: white;}#sk-container-id-1 label.sk-toggleable__label {cursor: pointer;display: block;width: 100%;margin-bottom: 0;padding: 0.3em;box-sizing: border-box;text-align: center;}#sk-container-id-1 label.sk-toggleable__label-arrow:before {content: \"▸\";float: left;margin-right: 0.25em;color: #696969;}#sk-container-id-1 label.sk-toggleable__label-arrow:hover:before {color: black;}#sk-container-id-1 div.sk-estimator:hover label.sk-toggleable__label-arrow:before {color: black;}#sk-container-id-1 div.sk-toggleable__content {max-height: 0;max-width: 0;overflow: hidden;text-align: left;background-color: #f0f8ff;}#sk-container-id-1 div.sk-toggleable__content pre {margin: 0.2em;color: black;border-radius: 0.25em;background-color: #f0f8ff;}#sk-container-id-1 input.sk-toggleable__control:checked~div.sk-toggleable__content {max-height: 200px;max-width: 100%;overflow: auto;}#sk-container-id-1 input.sk-toggleable__control:checked~label.sk-toggleable__label-arrow:before {content: \"▾\";}#sk-container-id-1 div.sk-estimator input.sk-toggleable__control:checked~label.sk-toggleable__label {background-color: #d4ebff;}#sk-container-id-1 div.sk-label input.sk-toggleable__control:checked~label.sk-toggleable__label {background-color: #d4ebff;}#sk-container-id-1 input.sk-hidden--visually {border: 0;clip: rect(1px 1px 1px 1px);clip: rect(1px, 1px, 1px, 1px);height: 1px;margin: -1px;overflow: hidden;padding: 0;position: absolute;width: 1px;}#sk-container-id-1 div.sk-estimator {font-family: monospace;background-color: #f0f8ff;border: 1px dotted black;border-radius: 0.25em;box-sizing: border-box;margin-bottom: 0.5em;}#sk-container-id-1 div.sk-estimator:hover {background-color: #d4ebff;}#sk-container-id-1 div.sk-parallel-item::after {content: \"\";width: 100%;border-bottom: 1px solid gray;flex-grow: 1;}#sk-container-id-1 div.sk-label:hover label.sk-toggleable__label {background-color: #d4ebff;}#sk-container-id-1 div.sk-serial::before {content: \"\";position: absolute;border-left: 1px solid gray;box-sizing: border-box;top: 0;bottom: 0;left: 50%;z-index: 0;}#sk-container-id-1 div.sk-serial {display: flex;flex-direction: column;align-items: center;background-color: white;padding-right: 0.2em;padding-left: 0.2em;position: relative;}#sk-container-id-1 div.sk-item {position: relative;z-index: 1;}#sk-container-id-1 div.sk-parallel {display: flex;align-items: stretch;justify-content: center;background-color: white;position: relative;}#sk-container-id-1 div.sk-item::before, #sk-container-id-1 div.sk-parallel-item::before {content: \"\";position: absolute;border-left: 1px solid gray;box-sizing: border-box;top: 0;bottom: 0;left: 50%;z-index: -1;}#sk-container-id-1 div.sk-parallel-item {display: flex;flex-direction: column;z-index: 1;position: relative;background-color: white;}#sk-container-id-1 div.sk-parallel-item:first-child::after {align-self: flex-end;width: 50%;}#sk-container-id-1 div.sk-parallel-item:last-child::after {align-self: flex-start;width: 50%;}#sk-container-id-1 div.sk-parallel-item:only-child::after {width: 0;}#sk-container-id-1 div.sk-dashed-wrapped {border: 1px dashed gray;margin: 0 0.4em 0.5em 0.4em;box-sizing: border-box;padding-bottom: 0.4em;background-color: white;}#sk-container-id-1 div.sk-label label {font-family: monospace;font-weight: bold;display: inline-block;line-height: 1.2em;}#sk-container-id-1 div.sk-label-container {text-align: center;}#sk-container-id-1 div.sk-container {/* jupyter's `normalize.less` sets `[hidden] { display: none; }` but bootstrap.min.css set `[hidden] { display: none !important; }` so we also need the `!important` here to be able to override the default hidden behavior on the sphinx rendered scikit-learn.org. See: https://github.com/scikit-learn/scikit-learn/issues/21755 */display: inline-block !important;position: relative;}#sk-container-id-1 div.sk-text-repr-fallback {display: none;}</style><div id=\"sk-container-id-1\" class=\"sk-top-container\"><div class=\"sk-text-repr-fallback\"><pre>RandomForestRegressor(random_state=42)</pre><b>In a Jupyter environment, please rerun this cell to show the HTML representation or trust the notebook. <br />On GitHub, the HTML representation is unable to render, please try loading this page with nbviewer.org.</b></div><div class=\"sk-container\" hidden><div class=\"sk-item\"><div class=\"sk-estimator sk-toggleable\"><input class=\"sk-toggleable__control sk-hidden--visually\" id=\"sk-estimator-id-1\" type=\"checkbox\" checked><label for=\"sk-estimator-id-1\" class=\"sk-toggleable__label sk-toggleable__label-arrow\">RandomForestRegressor</label><div class=\"sk-toggleable__content\"><pre>RandomForestRegressor(random_state=42)</pre></div></div></div></div></div>"
      ],
      "text/plain": [
       "RandomForestRegressor(random_state=42)"
      ]
     },
     "execution_count": 148,
     "metadata": {},
     "output_type": "execute_result"
    }
   ],
   "source": [
    "from sklearn.ensemble import RandomForestRegressor\n",
    "\n",
    "# Inicializando o modelo de Floresta Aleatória\n",
    "random_forest_model = RandomForestRegressor(n_estimators=100, random_state=42)\n",
    "\n",
    "random_forest_model.fit(X_train, y_train)"
   ]
  },
  {
   "cell_type": "code",
   "execution_count": 152,
   "id": "743e820e-e44d-4f94-9311-8f6e6a86af39",
   "metadata": {},
   "outputs": [
    {
     "data": {
      "text/plain": [
       "(20204190785.722946, 142141.44640365435, 80326.46807646181, 0.9267295014723876)"
      ]
     },
     "execution_count": 152,
     "metadata": {},
     "output_type": "execute_result"
    }
   ],
   "source": [
    "y_pred_rf = random_forest_model.predict(X_test)\n",
    "\n",
    "# Calculando métricas de avaliação\n",
    "mse_rf = mean_squared_error(y_test, y_pred_rf)\n",
    "rmse_rf = mean_squared_error(y_test, y_pred_rf, squared=False)\n",
    "mae_rf = mean_absolute_error(y_test, y_pred_rf)\n",
    "r2_rf = r2_score(y_test, y_pred_rf)\n",
    "\n",
    "mse_rf, rmse_rf, mae_rf, r2_rf"
   ]
  },
  {
   "cell_type": "code",
   "execution_count": 156,
   "id": "d4d1b81f-d94b-4b08-8523-4096ee76347e",
   "metadata": {},
   "outputs": [
    {
     "name": "stdout",
     "output_type": "stream",
     "text": [
      "Fitting 3 folds for each of 10 candidates, totalling 30 fits\n"
     ]
    },
    {
     "name": "stderr",
     "output_type": "stream",
     "text": [
      "/home/edilson07/.pyenv/versions/3.10.11/envs/rp_houses/lib/python3.10/site-packages/sklearn/model_selection/_validation.py:425: FitFailedWarning: \n",
      "9 fits failed out of a total of 30.\n",
      "The score on these train-test partitions for these parameters will be set to nan.\n",
      "If these failures are not expected, you can try to debug them by setting error_score='raise'.\n",
      "\n",
      "Below are more details about the failures:\n",
      "--------------------------------------------------------------------------------\n",
      "9 fits failed with the following error:\n",
      "Traceback (most recent call last):\n",
      "  File \"/home/edilson07/.pyenv/versions/3.10.11/envs/rp_houses/lib/python3.10/site-packages/sklearn/model_selection/_validation.py\", line 729, in _fit_and_score\n",
      "    estimator.fit(X_train, y_train, **fit_params)\n",
      "  File \"/home/edilson07/.pyenv/versions/3.10.11/envs/rp_houses/lib/python3.10/site-packages/sklearn/base.py\", line 1145, in wrapper\n",
      "    estimator._validate_params()\n",
      "  File \"/home/edilson07/.pyenv/versions/3.10.11/envs/rp_houses/lib/python3.10/site-packages/sklearn/base.py\", line 638, in _validate_params\n",
      "    validate_parameter_constraints(\n",
      "  File \"/home/edilson07/.pyenv/versions/3.10.11/envs/rp_houses/lib/python3.10/site-packages/sklearn/utils/_param_validation.py\", line 95, in validate_parameter_constraints\n",
      "    raise InvalidParameterError(\n",
      "sklearn.utils._param_validation.InvalidParameterError: The 'max_features' parameter of RandomForestRegressor must be an int in the range [1, inf), a float in the range (0.0, 1.0], a str among {'sqrt', 'log2'} or None. Got 'auto' instead.\n",
      "\n",
      "  warnings.warn(some_fits_failed_message, FitFailedWarning)\n",
      "/home/edilson07/.pyenv/versions/3.10.11/envs/rp_houses/lib/python3.10/site-packages/sklearn/model_selection/_search.py:979: UserWarning: One or more of the test scores are non-finite: [-2.76018283e+10 -2.28551157e+10 -2.75454492e+10             nan\n",
      " -2.62391881e+10 -2.88709948e+10             nan -2.62019074e+10\n",
      "             nan -2.44797024e+10]\n",
      "  warnings.warn(\n"
     ]
    },
    {
     "data": {
      "text/plain": [
       "{'n_estimators': 250,\n",
       " 'min_samples_split': 8,\n",
       " 'min_samples_leaf': 1,\n",
       " 'max_features': 'sqrt',\n",
       " 'max_depth': 90}"
      ]
     },
     "execution_count": 156,
     "metadata": {},
     "output_type": "execute_result"
    }
   ],
   "source": [
    "from sklearn.model_selection import RandomizedSearchCV\n",
    "import numpy as np\n",
    "\n",
    "# Definindo os hiperparâmetros e o espaço de pesquisa\n",
    "param_dist = {\n",
    "    'n_estimators': np.arange(50, 301, 50),\n",
    "    'max_features': ['auto', 'sqrt', 'log2'],\n",
    "    'max_depth': np.arange(10, 101, 10),\n",
    "    'min_samples_split': np.arange(2, 11, 2),\n",
    "    'min_samples_leaf': np.arange(1, 11, 2)\n",
    "}\n",
    "\n",
    "# Inicializando o RandomizedSearchCV\n",
    "random_search = RandomizedSearchCV(\n",
    "    RandomForestRegressor(random_state=42),\n",
    "    param_distributions=param_dist,\n",
    "    n_iter=10,\n",
    "    scoring='neg_mean_squared_error',\n",
    "    cv=3,\n",
    "    verbose=1,\n",
    "    n_jobs=-1,\n",
    "    random_state=42\n",
    ")\n",
    "\n",
    "# Executando a pesquisa aleatória\n",
    "random_search.fit(X_train, y_train)\n",
    "\n",
    "# Melhores hiperparâmetros encontrados\n",
    "best_params = random_search.best_params_\n",
    "best_params"
   ]
  },
  {
   "cell_type": "code",
   "execution_count": 157,
   "id": "de6b9358-d3f6-4452-93ff-a0e6ed5febfa",
   "metadata": {},
   "outputs": [
    {
     "data": {
      "text/plain": [
       "(19467511234.580235, 139526.02350307355, 85069.87611891037, 0.9294010698880584)"
      ]
     },
     "execution_count": 157,
     "metadata": {},
     "output_type": "execute_result"
    }
   ],
   "source": [
    "y_pred_rf = random_search.predict(X_test)\n",
    "\n",
    "# Calculando métricas de avaliação\n",
    "mse_rf = mean_squared_error(y_test, y_pred_rf)\n",
    "rmse_rf = mean_squared_error(y_test, y_pred_rf, squared=False)\n",
    "mae_rf = mean_absolute_error(y_test, y_pred_rf)\n",
    "r2_rf = r2_score(y_test, y_pred_rf)\n",
    "\n",
    "mse_rf, rmse_rf, mae_rf, r2_rf"
   ]
  },
  {
   "cell_type": "code",
   "execution_count": null,
   "id": "1d31e3a3-074f-40df-9612-1abd3e57b4ff",
   "metadata": {},
   "outputs": [],
   "source": []
  },
  {
   "cell_type": "code",
   "execution_count": null,
   "id": "debf698d-242c-40cb-be1a-91ca283a2bd5",
   "metadata": {},
   "outputs": [],
   "source": []
  },
  {
   "cell_type": "code",
   "execution_count": null,
   "id": "8d5b5aa4-7802-426c-9120-eec972dcd0bf",
   "metadata": {},
   "outputs": [],
   "source": []
  }
 ],
 "metadata": {
  "kernelspec": {
   "display_name": "Python 3 (ipykernel)",
   "language": "python",
   "name": "python3"
  },
  "language_info": {
   "codemirror_mode": {
    "name": "ipython",
    "version": 3
   },
   "file_extension": ".py",
   "mimetype": "text/x-python",
   "name": "python",
   "nbconvert_exporter": "python",
   "pygments_lexer": "ipython3",
   "version": "3.10.11"
  }
 },
 "nbformat": 4,
 "nbformat_minor": 5
}
