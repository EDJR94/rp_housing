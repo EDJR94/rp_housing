{
 "cells": [
  {
   "cell_type": "code",
   "execution_count": 41,
   "id": "fad92adb-03d4-4718-afd9-80476003408b",
   "metadata": {},
   "outputs": [],
   "source": [
    "import pandas as pd\n",
    "import inflection\n",
    "import requests\n",
    "import numpy as np"
   ]
  },
  {
   "cell_type": "code",
   "execution_count": 7,
   "id": "9cbf7c28-e33d-4d51-8bf1-9a689c7e49af",
   "metadata": {},
   "outputs": [],
   "source": [
    "X_test = pd.read_csv('/home/edilson07/projects/rp_housing/datasets/X_test.csv')"
   ]
  },
  {
   "cell_type": "code",
   "execution_count": 8,
   "id": "16424522-21f7-478e-b950-79062f80eae0",
   "metadata": {},
   "outputs": [],
   "source": [
    "X_test.columns = X_test.columns.map(lambda x: inflection.parameterize(x, separator='_'))"
   ]
  },
  {
   "cell_type": "code",
   "execution_count": 9,
   "id": "58673b2b-ae52-4bf8-b4aa-090f268cd9fc",
   "metadata": {},
   "outputs": [],
   "source": [
    "X_test['garagem'] = X_test['garagem'].fillna(0)\n",
    "X_test = X_test.drop(['iptu'], axis=1)"
   ]
  },
  {
   "cell_type": "code",
   "execution_count": 12,
   "id": "01a096d0-c94a-4ef2-850f-10ebb62737e4",
   "metadata": {},
   "outputs": [],
   "source": [
    "X_test['cidade'] = X_test['localizacao'].str.split(',').str[0]\n",
    "X_test = X_test.loc[X_test['cidade'] == 'São José do Rio Preto',:] \n",
    "X_test['bairro'] = X_test['localizacao'].str.split(',').str[1]\n",
    "X_test['bairro'] = X_test['bairro'].apply(lambda x: x.strip())"
   ]
  },
  {
   "cell_type": "code",
   "execution_count": 14,
   "id": "0bab8fef-7e29-4efe-9727-749d55f1b118",
   "metadata": {},
   "outputs": [],
   "source": [
    "mapping = {'São José do Rio Preto, Centro': (-20.8118189, -49.3801685), 'São José do Rio Preto, Jardim Santa Lúcia': (-20.7991669, -49.4040384), 'São José do Rio Preto, Residencial Ana Célia': (-20.7790137, -49.3976885), 'São José do Rio Preto, Centenário da Emancipação': (-20.7633142, -49.381182), 'São José do Rio Preto, Jardim Yolanda': (-20.8036186, -49.3488176), 'São José do Rio Preto, Eldorado': (-20.7905994, -49.4035921), 'São José do Rio Preto, Jardim Conceição': (-20.7882717, -49.378643), 'São José do Rio Preto, Rios de Spagna': (40.46366700000001, -3.74922), 'São José do Rio Preto, Higienópolis': (-20.8388273, -49.3864829), 'São José do Rio Preto, Jardins Rio Preto': (-20.8127115, -49.376521), 'São José do Rio Preto, Rios di Itália': (-20.7976251, -49.3342278), 'São José do Rio Preto, Jardim Nunes': (-20.7502911, -49.3856754), 'São José do Rio Preto, Residencial Anna Angélica': (-20.7928526, -49.4205513), 'São José do Rio Preto, Jardim Manoel Del Arco': (-20.7694395, -49.3919742), 'São José do Rio Preto, Jardim Vista Alegre': (-20.8068174, -49.3462837), 'São José do Rio Preto, Residencial Macedo Teles I': (-20.8018477, -49.41991609999999), 'São José do Rio Preto, Vila Cristina': (-20.8136423, -49.3646803), 'São José do Rio Preto, Parque Residencial Lauriano Tebar': (-20.8013346, -49.4116591), 'São José do Rio Preto, Loteamento Clube V': (-20.8126993, -49.37653719999999), 'São José do Rio Preto, Vila Anchieta': (-20.7918525, -49.37277220000001), 'São José do Rio Preto, Vila Santa Cândida': (-20.8303174, -49.3995934), 'São José do Rio Preto, Vila São Judas Tadeu': (-20.8255565, -49.3507209), 'São José do Rio Preto, Residencial Rio das Flores': (-20.8062519, -49.429432), 'São José do Rio Preto, Conjunto Habitacional CAIC': (-20.8269488, -49.3526271), 'São José do Rio Preto, Jardim Santa Maria': (-20.8323735, -49.3639592), 'São José do Rio Preto, Jardim Santa Luzia': (-20.8248847, -49.3702642), 'São José do Rio Preto, Vila Toninho': (-20.8467692, -49.3406253), 'São José do Rio Preto, Jardim Seyon': (-20.7787673, -49.3710265), 'São José do Rio Preto, Estância São João': (-20.7714309, -49.3710265), 'São José do Rio Preto, Vila Angélica': (-20.8017926, -49.3767388), 'São José do Rio Preto, Parque São Miguel': (-20.7980052, -49.34628), 'São José do Rio Preto, Jardim Santa Rosa I': (-20.7849527, -49.3686152), 'São José do Rio Preto, Cidade Nova': (-20.8353299, -49.3849908), 'São José do Rio Preto, Jardim Simões': (-20.768033, -49.3812743), 'São José do Rio Preto, Jardim Planalto': (-20.764828, -49.384356), 'São José do Rio Preto, Jardim Residencial Vetorasso': (-20.7979996, -49.4146089), 'São José do Rio Preto, Parque das Flores II': (-20.773943, -49.3736907), 'São José do Rio Preto, Residencial Jardim Antonieta': (-20.7981183, -49.4326214), 'São José do Rio Preto, Jardim Itapema': (-20.7808834, -49.39319769999999), 'São José do Rio Preto, Fazenda Velha (Zona Rural)': (-20.7880673, -49.3803691), 'São José do Rio Preto, Vila Imperial': (-20.8158936, -49.3897237), 'São José do Rio Preto, Jardim Redentor': (-20.8298694, -49.3894347), 'São José do Rio Preto, Boa Vista': (-20.8056337, -49.3840492), 'São José do Rio Preto, Jardim Marajó': (-20.7962466, -49.32725139999999), 'São José do Rio Preto, Parque Industrial': (-20.8020471, -49.3942809), 'São José do Rio Preto, Vila Nossa Senhora do Bonfim': (-20.837825, -49.3722959), 'São José do Rio Preto, Jardim América': (-20.7977467, -49.3646803), 'São José do Rio Preto, Vila Elmaz': (-20.7685547, -49.3716612), 'São José do Rio Preto, Residencial Colorado': (-20.7698374, -49.4154881), 'São José do Rio Preto, Jardim Paulista': (-20.802138, -49.3672187), 'São José do Rio Preto, Bosque da Felicidade': (-20.7771693, -49.3589692), 'São José do Rio Preto, Vila Redentora': (-20.8209302, -49.3871034), 'São José do Rio Preto, Jardim Santa Rosa II': (-20.7852721, -49.36845899999999), 'São José do Rio Preto, Parque Residencial Lauriano Tebar II': (-20.8319529, -49.3485004), 'São José do Rio Preto, Jardim Congonhas': (-20.8072986, -49.4046734), 'São José do Rio Preto, Vila Maceno': (-20.8044909, -49.37241179999999), 'São José do Rio Preto, Parque Estoril': (-20.8351579, -49.3819142), 'São José do Rio Preto, Residencial Santa Filomena': (-20.7837764, -49.3508141), 'São José do Rio Preto, Jardim Nazareth': (-20.7820235, -49.3632632), 'São José do Rio Preto, Vila São Jorge': (-20.7631937, -49.3399364), 'São José do Rio Preto, Vila Borguese': (-20.787598, -49.4192809), 'São José do Rio Preto, Jardim Jandira': (-20.7989437, -49.3485004), 'São José do Rio Preto, Vila Tonello': (-20.8006337, -49.397371), 'São José do Rio Preto, Jardim Caparroz': (-20.7839501, -49.3741999), 'São José do Rio Preto, Vila Itália': (-20.8075905, -49.4078486), 'São José do Rio Preto, Setvalley': (-20.7500378, -49.3317776), 'São José do Rio Preto, Pinheiros': (-20.827017, -49.4019577), 'São José do Rio Preto, Vila Hipódromo': (-20.8189447, -49.3532587), 'São José do Rio Preto, Parque Quinta das Paineiras': (-20.8325998, -49.36592049999999), 'São José do Rio Preto, Jardim Urano': (-20.8328648, -49.3741999), 'São José do Rio Preto, Parque Residencial Nature I': (-20.7637951, -49.419793), 'São José do Rio Preto, Jardim Mugnaini': (-20.7841853, -49.3900695), 'São José do Rio Preto, Vila Moreira': (-20.7989309, -49.388165), 'São José do Rio Preto, Jardim Walkíria': (-20.8303001, -49.3887998), 'São José do Rio Preto, Jardim Ouro Verde': (-20.8356042, -49.3773735), 'São José do Rio Preto, Vila São Manoel': (-20.830051, -49.4009332), 'São José do Rio Preto, Vila Nossa Senhora da Paz': (-20.811746, -49.3945138), 'São José do Rio Preto, Conjunto Habitacional São Deocleciano': (-20.7909238, -49.344592), 'São José do Rio Preto, Estância Parque Azul (Zona Rural)': (-20.8774769, -49.366009), 'São José do Rio Preto, Setparque Avenida 2': (-20.7567789, -49.39260909999999), 'São José do Rio Preto, Parque Residencial Comendador Mançor Daud': (-20.8250626, -49.360461), 'São José do Rio Preto, Vila Ercília': (-20.8142982, -49.3700807), 'São José do Rio Preto, Setparque Horizonte': (-20.7490561, -49.4097729), 'São José do Rio Preto, Vila Boa Esperança': (-20.7910093, -49.3818168), 'São José do Rio Preto, Mariza Cristina II': (-20.7701733, -49.3719785), 'São José do Rio Preto, Parque Residencial Universo': (-20.7880992, -49.4167402), 'São José do Rio Preto, Jardim Bela Vista': (-20.7989489, -49.36122169999999), 'São José do Rio Preto, Jardim Panorama': (-20.831041, -49.4021333), 'São José do Rio Preto, Jardim Maracanã': (-20.8283179, -49.4097538), 'São José do Rio Preto, Jardim Vale do Sol': (-20.7839635, -49.3849908), 'São José do Rio Preto, Vila Diniz': (-20.820531, -49.3683798), 'São José do Rio Preto, Residencial Gaivota I': (-20.811658, -49.34057079999999), 'São José do Rio Preto, Jardim Estrela': (-20.8121265, -49.36150740000001), 'São José do Rio Preto, Jardim Novo Aeroporto': (-20.8144994, -49.4084837), 'São José do Rio Preto, São Francisco': (-20.8439424, -49.3799316), 'São José do Rio Preto, Jardim Primavera': (-20.7992453, -49.3570657), 'São José do Rio Preto, Parque Residencial Joaquim Nabuco': (-20.789272, -49.3735653), 'São José do Rio Preto, Vila Sinibaldi': (-20.8254373, -49.3768536), 'São José do Rio Preto, Parque Residencial Dom Lafayete Libanio': (-20.7742974, -49.3905508), 'São José do Rio Preto, Jardim Suzana': (-20.7810737, -49.3748346), 'São José do Rio Preto, Vila São José': (-20.8260421, -49.3948985), 'São José do Rio Preto, Conjunto Habitacional Cristo Rei': (-20.8358683, -49.3499874), 'São José do Rio Preto, Recanto Dos Eduardos': (-20.7922025, -49.3377164), 'São José do Rio Preto, Jardim Bordon': (-20.796593, -49.3627765), 'São José do Rio Preto, Bom Jardim': (-20.8302131, -49.3799125), 'São José do Rio Preto, Jardim do Lago': (-20.7722936, -49.3543209), 'São José do Rio Preto, Residencial Cidade Jardim': (-20.8435968, -49.3664207), 'São José do Rio Preto, Jardim Gisette': (-20.7871668, -49.41991609999999), 'São José do Rio Preto, Jardim Paulistano': (-20.802138, -49.3672187), 'São José do Rio Preto, Jardim do Bosque': (-20.7786144, -49.36404570000001), 'São José do Rio Preto, Jardim Canaã': (-20.8034066, -49.3995934), 'São José do Rio Preto, Vila Clementina': (-20.7741678, -49.3741999), 'São José do Rio Preto, Loteamento Porto Seguro': (-20.7999717, -49.41546990000001), 'São José do Rio Preto, Jardim Herculano': (-20.8096061, -49.4084837), 'São José do Rio Preto, Jardim São Marco': (-20.8379166, -49.3604065), 'São José do Rio Preto, Jardim Anice': (-20.8126993, -49.37653719999999), 'São José do Rio Preto, Residencial Caetano': (-20.7550452, -49.384356), 'São José do Rio Preto, Jardim Zé Menino': (-20.7653396, -49.39260909999999), 'São José do Rio Preto, Parque das Aroeiras': (-20.7880481, -49.4402459), 'São José do Rio Preto, Jardim Bianco': (-20.7881796, -49.4256331), 'São José do Rio Preto, Residencial Palestra': (-20.8053753, -49.4267779), 'São José do Rio Preto, Jardim Maria Cândida': (-20.8202545, -49.4072136), 'São José do Rio Preto, Vila Bom Jesus': (-20.8199724, -49.379895), 'São José do Rio Preto, Setvalley III': (-20.7461223, -49.325568), 'São José do Rio Preto, Gonzaga de Campos': (-20.8106337, -49.42499790000001), 'São José do Rio Preto, Residencial São Thomaz': (-20.7846839, -49.4207012), 'São José do Rio Preto, Jardim Schmitt': (-20.8645744, -49.3075951), 'São José do Rio Preto, Parque das Perdizes': (-23.5369017, -46.6743166), 'São José do Rio Preto, Parque Residencial J. Macedo': (-20.8126993, -49.37653719999999), 'São José do Rio Preto, Residencial Marcia': (-20.8023182, -49.3453284), 'São José do Rio Preto, Vila Santo Antônio': (-20.8212576, -49.3797401), 'São José do Rio Preto, Cecap': (-20.796293, -49.4194967), 'São José do Rio Preto, Fazenda Monte Alto (Zona Rural)': (-20.8126993, -49.37653719999999), 'São José do Rio Preto, Distrito Industrial Waldemar de Oliveira Verdi': (-20.811175, -49.4195515), 'São José do Rio Preto, Parque das Amoras II': (-20.8543945, -49.31900760000001), 'São José do Rio Preto, Vila Zilda': (-20.7963459, -49.3919742), 'São José do Rio Preto, Jardim Alto Alegre': (-20.7886724, -49.3564312), 'São José do Rio Preto, Residencial das Laranjeiras': (-20.8126993, -49.37653719999999), 'São José do Rio Preto, Vila Azul (Zona Rural)': (-20.8126993, -49.37653719999999), 'São José do Rio Preto, Jardim Tangará': (-20.8409951, -49.3748346), 'São José do Rio Preto, Residencial Jardins': (-20.8144141, -49.343256), 'São José do Rio Preto, Vila Santa Cruz': (-20.8189673, -49.3740451), 'São José do Rio Preto, Residencial Gabriela': (-20.7900549, -49.4300801), 'São José do Rio Preto, Vila Esplanada': (-20.7972271, -49.38062499999999), 'São José do Rio Preto, Jardim Europa': (-20.8200218, -49.3804889), 'São José do Rio Preto, Vila São Pedro': (-20.8271474, -49.3970535), 'São José do Rio Preto, Jardim Bosque das Vivendas': (-20.8459954, -49.3945138), 'São José do Rio Preto, Jardim Viena': (-20.8479915, -49.384356), 'São José do Rio Preto, Vila Ideal': (-20.7998995, -49.36150740000001), 'São José do Rio Preto, Jardim Alto Rio Preto': (-20.8201069, -49.403669), 'São José do Rio Preto, Jardim Vivendas': (-20.8483343, -49.394625), 'São José do Rio Preto, Vila Ipiranga': (-20.791564, -49.3665841), 'São José do Rio Preto, Loteamento Residencial Maria Adélia': (-20.8126993, -49.37653719999999), 'São José do Rio Preto, Jardim Santa Catarina': (-20.8265254, -49.3691226), 'São José do Rio Preto, Vila Falavina': (-20.7944697, -49.3875301), 'São José do Rio Preto, Jardins De Athenas': (-20.7799358, -49.3451957), 'São José do Rio Preto, Vila Nossa Senhora de Fátima': (-20.8205315, -49.3995934), 'São José do Rio Preto, Jardim Vieira': (-20.7942858, -49.3589692), 'São José do Rio Preto, Areia Branca': (-20.8126993, -49.37653719999999), 'São José do Rio Preto, Jardim Sônia': (-20.7817129, -49.368488), 'São José do Rio Preto, Parque Celeste': (-20.8193943, -49.3634111), 'São José do Rio Preto, Vila Novaes': (-20.7881186, -49.3716612), 'São José do Rio Preto, Vila Aeroporto': (-20.8104449, -49.3983934), 'São José do Rio Preto, Vila Elvira': (-20.8127858, -49.36381739999999), 'São José do Rio Preto, Vila Bancário': (-20.8190849, -49.3945138), 'São José do Rio Preto, Residencial Santa Regina': (-20.8595482, -49.3312592), 'São José do Rio Preto, Parque Jaguaré': (-20.7752687, -49.3686574), 'São José do Rio Preto, Residencial Ary Attab': (-20.8005762, -49.4291049), 'São José do Rio Preto, Jardim Tarraf II': (-20.8361215, -49.41445849999999), 'São José do Rio Preto, Jardim Tarraf': (-20.8398283, -49.4072136), 'São José do Rio Preto, Parque Residencial Romano Calil': (-20.8273484, -49.3559113), 'São José do Rio Preto, Conjunto Habitacional São José do Rio Preto': (-20.7643606, -49.3526243), 'São José do Rio Preto, Centro (Talhado)': (-20.7070717, -49.2930156), 'São José do Rio Preto, Residencial Vila Flora': (-20.78745, -49.3502101), 'São José do Rio Preto, Parque BR - Empresarial e Logístico': (-20.8126993, -49.37653719999999), 'São José do Rio Preto, Jardim Soraia': (-20.8189395, -49.3524115), 'São José do Rio Preto, Vila Miguelzinho': (None, None), 'São José do Rio Preto, Estância Santa Paula (Zona Rural)': (-20.7050273, -49.3388395), 'São José do Rio Preto, Residencial Nato Vetorasso': (-20.7922208, -49.4377043), 'São José do Rio Preto, Recanto Real': (-20.8331424, -49.4116591), 'São José do Rio Preto, Jardim Giuliane': (-20.8126993, -49.37653719999999), 'São José do Rio Preto, Conjunto Habitacional Costa do Sol': (-20.783114, -49.3970535), 'São José do Rio Preto, Jardim Aclimação': (-20.8407586, -49.4040384), 'São José do Rio Preto, Nova Redentora': (-20.8283627, -49.39259), 'São José do Rio Preto, Condomínio Residencial Parque da Liberdade III': (-20.765915, -49.3311962), 'São José do Rio Preto, Santos Dumont': (-20.818159, -49.4016051), 'São José do Rio Preto, Estância Matinha': (-20.8312301, -49.4081662), 'São José do Rio Preto, Jardim Novo Mundo': (-20.8303504, -49.3761041), 'São José do Rio Preto, Vila Aurora': (-20.8199404, -49.3770539), 'São José do Rio Preto, Vila São João': (-20.8314717, -49.4014983), 'São José do Rio Preto, Vila Nossa Senhora Aparecida': (-20.8141923, -49.3945138), 'São José do Rio Preto, Condomínio Débora Cristina': (-20.8479613, -49.4078486), 'São José do Rio Preto, Jardim Anielli': (-20.7931326, -49.4129294), 'São José do Rio Preto, Vila Curti': (-20.7983468, -49.3818168), 'São José do Rio Preto, Residencial Eco Village I': (-20.865677, -49.4141996), 'São José do Rio Preto, Praças Golfe': (-20.8418557, -49.4179212), 'São José do Rio Preto, Jardim Fuscaldo': (-20.8057889, -49.3564312), 'São José do Rio Preto, Jardim Francisco Fernandes': (-20.8389491, -49.3976885), 'São José do Rio Preto, Universitário': (-20.8429809, -49.3989584), 'São José do Rio Preto, Vila Goyos': (-20.8055825, -49.362142), 'São José do Rio Preto, Jardim Municipal': (-20.7931322, -49.3570657), 'São José do Rio Preto, Bosque da Saúde': (-20.8254244, -49.3995934), 'São José do Rio Preto, Jardim Morumbi': (-20.8349175, -49.3964186), 'São José do Rio Preto, Jardim Moysés Miguel Haddad': (-20.8600972, -49.41155329999999), 'São José do Rio Preto, Estância Santa Clara (Zona Rural)': (-20.744406, -49.352307), 'São José do Rio Preto, Chácara Municipal': (-20.8311789, -49.3983234), 'São José do Rio Preto, Parque Setorial': (-20.8126993, -49.37653719999999), 'São José do Rio Preto': (-20.8126993, -49.37653719999999), 'São José do Rio Preto, Cond Débora Cristina': (-20.8479613, -49.4078486), 'São José do Rio Preto, Iguatemi': (-20.8664635, -49.41453), 'São José do Rio Preto, Residencial Maria Clara': (-20.7559669, -49.418461), 'São José do Rio Preto, Georgina Business Park': (-20.8451699, -49.4009459), 'São José do Rio Preto, Parque Residencial Buona Vita': (-20.8630324, -49.3270647), 'São José do Rio Preto, Residencial Maria Júlia': (-20.8042047, -49.3212155), 'São José do Rio Preto, Condomínio Vilage La Montagne': (-20.8623904, -49.40832899999999), 'São José do Rio Preto, Residencial Figueira II': (-20.8004284, -49.33448569999999), 'São José do Rio Preto, Green Fields Residence Club': (-20.8516956, -49.4032446), 'São José do Rio Preto, Residencial Gaivota II': (-20.8078148, -49.34194249999999), 'São José do Rio Preto, Residencial Quinta do Golfe': (-20.853313, -49.4221652), 'São José do Rio Preto, Estância Bela Vista III (Zona Rural)': (-20.8681359, -49.3221781), 'São José do Rio Preto, Reserva da Mata': (-20.8126993, -49.37653719999999), 'São José do Rio Preto, Village Imperial Residence': (-20.8059362, -49.32808319999999), 'São José do Rio Preto, Condomínio Green Palm': (-20.8491226, -49.403343), 'São José do Rio Preto, Village Damha Rio Preto III': (-20.7756391, -49.3367082), 'São José do Rio Preto, Quinta do Lago Residence': (-20.8268505, -49.3866883), 'São José do Rio Preto, Residencial Village Damha Rio Preto II': (-20.8787776, -49.3497693), 'São José do Rio Preto, Residencial Jardim das Acácias': (-20.8126993, -49.37653719999999), 'São José do Rio Preto, Residencial Morada do Sol': (-20.7482269, -49.396235), 'São José do Rio Preto, Jardim Santo Antônio': (-20.7610991, -49.3970535), 'São José do Rio Preto, Jardim dos Buritis': (-20.7589945, -49.42086889999999), 'São José do Rio Preto, Solo Sagrado I': (-20.7790734, -49.4152733), 'São José do Rio Preto, Parque da Cidadania': (-20.752442, -49.4061147), 'São José do Rio Preto, Centro (Engenheiro Schmitt)': (-20.8118189, -49.3801685), 'São José do Rio Preto, Residencial Vitória Régia': (-20.8126993, -49.37653719999999), 'São José do Rio Preto, Solo Sagrado': (-20.7810097, -49.40898869999999), 'São José do Rio Preto, Residencial Flórida Park': (-20.8126993, -49.37653719999999), 'São José do Rio Preto, Loteamento Parque Nova Esperança': (-20.7450334, -49.4094272), 'São José do Rio Preto, Egydio Zani': (-20.7218327, -49.3777252), 'São José do Rio Preto, Residencial Cidade Alta': (-20.7401657, -49.4066031), 'São José do Rio Preto, Residencial Vila Madalena': (-20.8126993, -49.37653719999999), 'São José do Rio Preto, Loteamento Parque Residencial da Amizade': (-20.7574909, -49.3231293), 'São José do Rio Preto, Jardim João Paulo II': (-20.7720155, -49.3642863), 'São José do Rio Preto, Conjunto Habitacional Duas Vendas': (-20.7609386, -49.3792777), 'São José do Rio Preto, Residencial Mirante': (-20.7863931, -49.4408814), 'São José do Rio Preto, Condomínio Residencial Parque da Liberdade I': (-20.7728625, -49.3318835), 'São José do Rio Preto, Parque Residencial da Fraternidade 2': (-20.8731478, -49.3418394), 'São José do Rio Preto, Residencial Floresta Park (Zona Rural)': (-20.7697831, -49.41933179999999), 'São José do Rio Preto, Jardim das Oliveiras': (-20.7752964, -49.4094503), 'São José do Rio Preto, Parque Residencial da Solidariedade': (-20.8126993, -49.37653719999999), 'São José do Rio Preto, Parque Residencial João da Silva': (-20.786795, -49.4078486), 'São José do Rio Preto, Jardim Astúrias': (-20.7828449, -49.41546990000001), 'São José do Rio Preto, Estância Bela Vista (Zona Rural)': (-20.8681359, -49.3221781), 'São José do Rio Preto, Jardim Arroyo': (-20.7628693, -49.4032853), 'São José do Rio Preto, Jardim Antunes': (-20.7703051, -49.4034755), 'São José do Rio Preto, Jardim Laranjeiras': (-20.7863663, -49.4087617), 'São José do Rio Preto, Residencial Santa Ana': (-20.7589129, -49.3678533), 'São José do Rio Preto, Residencial Mais Viver': (-20.7249158, -49.38250679999999), 'São José do Rio Preto, Loteamento Parque Residencial da Lealdade': (-20.7545544, -49.3310566), 'São José do Rio Preto, Estância Bosque Verde (Zona Rural)': (-20.7382591, -49.3532587), 'São José do Rio Preto, Parque Residencial Dignidade': (-20.8126993, -49.37653719999999), 'São José do Rio Preto, Loteamento Village Santa Helena': (-20.8455145, -49.4078486), 'São José do Rio Preto, Parque Residencial Damha IV': (-20.818739, -49.3361561), 'São José do Rio Preto, Parque Residencial Damha VI': (-20.818739, -49.3361561), 'São José do Rio Preto, Parque Residencial Damha': (-20.818739, -49.3361561), 'São José do Rio Preto, Quinta do Golfe Jardins': (-20.8576736, -49.4250072), 'São José do Rio Preto, Parque Residencial Damha V': (-20.8124381, -49.3395935), 'São José do Rio Preto, Residencial Eco Village': (-20.8126993, -49.37653719999999), 'São José do Rio Preto, Loteamento Recanto do Lago': (-20.8313932, -49.3385092), 'São José do Rio Preto, Jardim do Cedro': (-20.8142468, -49.4377043), 'São José do Rio Preto, São Benedito da Capelinha (Zona Rural)': (-17.6934016, -42.5181119), 'São José do Rio Preto, Green Valley Edge City': (-20.8126993, -49.37653719999999), 'São José do Rio Preto, Fazenda Palhinha (Zona Rural)': (-20.8126993, -49.37653719999999), 'São José do Rio Preto, Village Flamboyant': (-20.8513754, -49.4050241), 'São José do Rio Preto, Condomínio Village Rio Preto': (-20.8777362, -49.3504037), 'São José do Rio Preto, Condomínio Harmonia Residence': (-20.8533993, -49.4081981), 'São José do Rio Preto, Condomínio Bourgainville': (-20.8512692, -49.4072325), 'São José do Rio Preto, Jardim dos Seixas': (-20.8069602, -49.3691226), 'São José do Rio Preto, Estância Jóckei Club': (-20.8554124, -49.34934029999999), 'São José do Rio Preto, Estância Santa Helena': (-20.8126993, -49.37653719999999), 'São José do Rio Preto, Chácara Recreativa Residencial Cortina D`Ampezzo': (-20.8926439, -49.3437425), 'São José do Rio Preto, Residencial Portal do Sul': (-20.8428343, -49.392781), 'São José do Rio Preto, Fazenda Palmeira (Zona Rural)': (-20.8126993, -49.37653719999999), 'São José do Rio Preto, Residencial Vista Alegre II e III (Zona Rural)': (-20.879953, -49.39133930000001), 'São José do Rio Preto, Recanto dos Eduardos': (-20.7922025, -49.3377164), 'São José do Rio Preto, Chácaras de Recreio Felicidade (Zona Rural)': (-20.7914019, -49.3542104), 'São José do Rio Preto, Jardim Alvorada': (-20.8157956, -49.39628399999999), 'São José do Rio Preto, Chácara Bela Vista': (-20.8126993, -49.37653719999999), 'São José do Rio Preto, Residencial Amazonas': (-20.8126993, -49.37653719999999), 'São José do Rio Preto, Ideal Life Ecolazer Residence': (-20.8597806, -49.3164713), 'São José do Rio Preto, Jardins de Athenas': (-20.7799358, -49.3451957), 'São José do Rio Preto, Village Provence': (-20.8517595, -49.3734421), 'São José do Rio Preto, Loteamento Auferville': (-20.7523574, -49.33808029999999), 'São José do Rio Preto, Parque Industrial Campo Verde': (-20.830174, -49.3583347), 'São José do Rio Preto, Residencial Quinta da Mata': (-20.830206, -49.3574424), 'São José do Rio Preto, Europark': (-20.8529767, -49.374361), 'São José do Rio Preto, Residencial Maza': (-20.8675152, -49.3050592), 'São José do Rio Preto, Jardim Veneza': (-20.8805153, -49.3264587), 'São José do Rio Preto, Vila Fioresi': (-20.8195679, -49.381182), 'São José do Rio Preto, Centro Industrial Pascutti': (-20.8566999, -49.33507), 'São José do Rio Preto, Jardim Analice': (-20.816587, -49.362142), 'São José do Rio Preto, Condomínio Residencial Village Maria Stella': (-20.8126993, -49.37653719999999), 'São José do Rio Preto, Residencial Alta Vista': (-20.7572876, -49.3405906), 'São José do Rio Preto, Residencial das Américas': (-20.8126993, -49.37653719999999), 'São José do Rio Preto, Condomínio Morada do Sol (Zona Rural)': (-20.8126993, -49.37653719999999), 'São José do Rio Preto, Chácara Recreio Parque do Sabiá (Zona Rural)': (-20.8126993, -49.37653719999999), 'São José do Rio Preto, Centro Empresarial Coplan': (-20.8429127, -49.3706633), 'São José do Rio Preto, Condomínio Nossa Senhora de Lourdes (Zona Rural)': (-20.7144393, -49.3862404), 'São José do Rio Preto, Chácara Jockey Club (Zona Rural)': (-20.8126993, -49.37653719999999), 'São José do Rio Preto, Vila São Joaquim': (-20.8242356, -49.3761041), 'São José do Rio Preto, Belvedere Terra Nova': (-20.7789358, -49.3465785), 'São José do Rio Preto, Vila Dório': (-20.8153642, -49.362142), 'São José do Rio Preto, SETSUL': (-20.853769, -49.3596038), 'São José do Rio Preto, Condomínio Residencial Parque da Liberdade IV': (-20.7678772, -49.3299898), 'São José do Rio Preto, Jardim Michel Jacob': (-20.8398883, -49.39991089999999), 'São José do Rio Preto, Recanto das Aves (Zona Rural)': (-20.8126993, -49.37653719999999), 'São José do Rio Preto, Vila Maria': (-20.8101689, -49.39419830000001), 'São José do Rio Preto, Residencial Jéssica': (-20.8126993, -49.37653719999999), 'São José do Rio Preto, Loteamento Parque dos Pássaros': (-20.8853627, -49.4297064), 'São José do Rio Preto, Loteamento Moradas Rio Preto': (-20.8127115, -49.376521), 'São José do Rio Preto, Jardim Maria Lúcia': (-20.7683714, -49.4091803), 'São José do Rio Preto, Residencial São Thomaz II': (-20.7652635, -49.4336821), 'São José do Rio Preto, Residencial Jardim Vista Bela': (-20.7821137, -49.4247936), 'São José do Rio Preto, Parque Residencial da Fraternidade': (-20.8731478, -49.3418394), 'São José do Rio Preto, Loteamento Residencial Luz da Esperança': (-20.7725087, -49.31900760000001), 'São José do Rio Preto, Parque das Amoras': (-20.7788514, -49.3860752), 'São José do Rio Preto, Residencial Santa Cruz': (-20.7935194, -49.4411991), 'São José do Rio Preto, Jardim Felicidade': (-20.7571121, -49.3561341), 'São José do Rio Preto, Estância São Pedro Vila Azul': (-20.8638899, -49.3764262), 'São José do Rio Preto, Parque das Aroeiras II': (-20.7873897, -49.4406653), 'São José do Rio Preto, Condomínio Residencial Parque da Liberdade V': (-20.7690768, -49.3276408), 'São José do Rio Preto, Jardim Caetano II': (-20.7570883, -49.3828551), 'São José do Rio Preto, Estância São Marcos II e IV (Zona Rural)': (-20.8654099, -49.3875301), 'São José do Rio Preto, Jardim Vitória Régia': (-20.8190131, -49.3513554), 'São José do Rio Preto, Jardim Urupês': (-20.7750991, -49.3710265), 'São José do Rio Preto, Jardim Alice': (-20.7878888, -49.4224569), 'São José do Rio Preto, Residencial Jardim Norte': (-20.8126993, -49.37653719999999), 'São José do Rio Preto, Fazenda Rio Preto': (-20.8127115, -49.376521), 'São José do Rio Preto, Residencial Colina Azul': (-20.8720646, -49.3785009), 'São José do Rio Preto, Morada Real': (-20.8126993, -49.37653719999999), 'São José do Rio Preto, Condomínio Residencial Parque da Liberdade II': (-20.7711033, -49.332283), 'São José do Rio Preto, Residencial Bom Sucesso': (-20.7641348, -49.4141996), 'São José do Rio Preto, Parque Juriti': (-20.771821, -49.3816408), 'São José do Rio Preto, Jardim Rosely': (-20.7909948, -49.3710265), 'São José do Rio Preto, Parque Residencial da Fraternidade 3': (-20.8731478, -49.3418394), 'São José do Rio Preto, Jardim Los Angeles': (-20.7929684, -49.39514870000001), 'São José do Rio Preto, Vila Santa Tereza': (-20.8138484, -49.3589692), 'São José do Rio Preto, Residencial Califórnia': (-20.7680429, -49.4136906), 'São José do Rio Preto, Condomínio Residencial Parque da Liberdade VI': (-20.770184, -49.32910280000001), 'São José do Rio Preto, Jardim Leste': (-20.7711144, -49.3237635), 'São José do Rio Preto, Residencial Setsul II': (-20.850005, -49.3601391), 'São José do Rio Preto, Residencial Monte Verde': (-20.788761, -49.4319861), 'São José do Rio Preto, Residencial Vila Verde': (-20.8126993, -49.37653719999999), 'São José do Rio Preto, Estância Santa Catarina (Zona Rural)': (-20.8528768, -49.3158372), 'São José do Rio Preto, Fazenda São Pedro (Zona Rural)': (-20.8126993, -49.37653719999999), 'São José do Rio Preto, Jardim Residencial Etemp': (-20.785442, -49.4224569), 'São José do Rio Preto, Jardim Campo Belo': (-20.8126993, -49.37653719999999), 'São José do Rio Preto, Parque Residencial Maria Zorita': (-20.7888564, -49.4183281), 'São José do Rio Preto, Residencial Luzia Polotto': (-20.7547277, -49.3930129), 'São José do Rio Preto, Estância São Carlos (Zona Rural)': (-20.7080927, -49.346252), 'São José do Rio Preto, Residencial Alto das Andorinhas': (-20.7718855, -49.3919742), 'São José do Rio Preto, Jardim São Paulo': (-20.7968274, -49.3563436), 'São José do Rio Preto, Residencial Garcia': (-20.7684026, -49.3646803), 'São José do Rio Preto, Jardim Roseana': (-20.8081459, -49.39260909999999), 'São José do Rio Preto, Vila Gasbarro': (-20.7886879, -49.3672187), 'São José do Rio Preto, Setvalley II': (-20.7460483, -49.3327136), 'São José do Rio Preto, Residencial Machado I': (-20.7646522, -49.3557967), 'São José do Rio Preto, Vila Nossa Senhora da Penha': (-20.7921066, -49.3964186), 'São José do Rio Preto, Residencial Monterey': (-20.8126993, -49.37653719999999), 'São José do Rio Preto, Loteamento Jorge Rodrigues': (-20.8126993, -49.37653719999999), 'São José do Rio Preto, Morada Campestre': (-20.8376692, -49.3310566), 'São José do Rio Preto, Loteamento Parque Maria Serantes': (-20.8126993, -49.37653719999999), 'São José do Rio Preto, Vila Lisboa': (-20.79797, -49.3697572), 'São José do Rio Preto, Residencial Ary Attab II': (-20.8005762, -49.4291049), 'São José do Rio Preto, Residencial Santa Inês': (-20.8126993, -49.37653719999999), 'São José do Rio Preto, Jardim dos Gomes': (-20.8148464, -49.35389319999999), 'São José do Rio Preto, Jardim Paraíso': (-20.7785899, -49.38506599999999), 'São José do Rio Preto, Residencial Vista Alegre I (Zona Rural)': (-20.8744707, -49.3849908), 'São José do Rio Preto, Vila Romana': (-20.7890507, -49.4101718), 'São José do Rio Preto, Fazenda Vista Alegre (Zona Rural)': (-20.8126993, -49.37653719999999), 'São José do Rio Preto, Jardim Nunes 2': (-20.7502911, -49.3856754), 'São José do Rio Preto, Residencial Vila Lobos': (-20.8126993, -49.37653719999999), 'São José do Rio Preto, Estância Ponte Grande (Zona Rural)': (-20.7884795, -49.4396105), 'São José do Rio Preto, Vila Mafalda II': (-20.7739254, -49.4195985), 'São José do Rio Preto, Recanto Duas Vendas': (-20.8126993, -49.37653719999999), 'São José do Rio Preto, Parque Residencial Atlântica': (-20.7910471, -49.4141996), 'São José do Rio Preto, Estância Pousada dos Pássaros (Zona Rural)': (-20.7403758, -49.4340639), 'São José do Rio Preto, Terra Nova Garden Village': (-20.8126993, -49.37653719999999), 'São José do Rio Preto, Condomínio Residencial Jardins de Barcelona': (41.3873974, 2.168568), 'São José do Rio Preto, Residencial Doutor João Tajara': (-20.8390544, -49.3577529), 'São José do Rio Preto, Residencial Mário de Mattos': (-20.784372, -49.427223), 'São José do Rio Preto, Parque do Sol': (-20.8018477, -49.41991609999999), 'São José do Rio Preto, Loteamento Empresarial Spotti': (-20.8581424, -49.3346055), 'São José do Rio Preto, Loteamento João G da Silva': (-20.7926977, -49.3802299), 'São José do Rio Preto, Villa Cassini': (-20.7958295, -49.3313275), 'São José do Rio Preto, Parque Residencial Cambuí': (-20.8413602, -49.3418394), 'São José do Rio Preto, Loteamento Galiléia (Zona Rural)': (-20.8126993, -49.37653719999999), 'São José do Rio Preto, Vila Santa Isabel': (-20.7963858, -49.368488), 'São José do Rio Preto, Jardim Marambáia': (-20.8126993, -49.37653719999999), 'São José do Rio Preto, Parque Residencial João da Silva II': (-20.786795, -49.4078486), 'São José do Rio Preto, Giardino': (-20.8126993, -49.37653719999999), 'São José do Rio Preto, Jardim Castelinho': (-20.7760161, -49.3570657), 'São José do Rio Preto, Estância Alvorada (Zona Rural)': (-20.7517265, -49.4276833), 'São José do Rio Preto, Jardim Regina Maura': (-20.7912525, -49.4418345), 'São José do Rio Preto, Roseiral': (-20.8174479, -49.3608728), 'São José do Rio Preto, Loteamento Residencial Antoniassi': (-20.8126993, -49.37653719999999), 'São José do Rio Preto, Residencial Macedo Teles II': (-20.799333, -49.41320529999999), 'São José do Rio Preto, Residencial Sebastião Guilhem Padilha': (-20.764898, -49.3824516), 'São José do Rio Preto, Estância Vista Bonita (Zona Rural)': (-20.7666226, -49.4213453), 'São José do Rio Preto, Residencial Vista Alegre': (-20.8126993, -49.37653719999999), 'São José do Rio Preto, Estância Suíça (Zona Rural)': (-20.7574207, -49.3862604), 'São José do Rio Preto, Maisparque Rio Preto': (-20.766511, -49.3478016), 'São José do Rio Preto, Fazenda Retiro (Zona Rural)': (-20.8126993, -49.37653719999999), 'São José do Rio Preto, Parque Industrial Tancredo Neves': (-20.8372846, -49.3532587), 'São José do Rio Preto, Estância Santa Edwirges (Zona Rural)': (-20.7307924, -49.4554183), 'São José do Rio Preto, Estância Vila Azul (Zona Rural)': (-20.895347, -49.3596038), 'São José do Rio Preto, Residencial Bela Vista I (Zona Rural)': (-20.8126993, -49.37653719999999), 'São José do Rio Preto, Estância Todos os Santos (Zona Rural)': (-20.8126993, -49.37653719999999), 'São José do Rio Preto, Residencial Ana Cláudia (Zona Rural)': (-20.8619152, -49.30791199999999), 'São José do Rio Preto, Estância Navarrete (Zona Rural)': (-20.8768932, -49.3741999), 'São José do Rio Preto, Chácara Recreio Nossa Senhora do Líbano (Zona Rural)': (-20.7475324, -49.3228211), 'São José do Rio Preto, Estância Nossa Senhora de Fátima (Zona Rural)': (-20.8471954, -49.3152032), 'São José do Rio Preto, Loteamento Nevada': (-20.8126993, -49.37653719999999)}"
   ]
  },
  {
   "cell_type": "code",
   "execution_count": 17,
   "id": "0deafeeb-dc00-4ea7-9328-d99f153bf429",
   "metadata": {},
   "outputs": [],
   "source": [
    "unique_addresses = X_test['localizacao'].unique()\n",
    "X_test['latitude'] = X_test['localizacao'].map(lambda x: mapping.get(x, (None, None))[0])\n",
    "X_test['longitude'] = X_test['localizacao'].map(lambda x: mapping.get(x, (None, None))[1])"
   ]
  },
  {
   "cell_type": "code",
   "execution_count": 20,
   "id": "75968d83-99e5-4a28-a994-dfd982e24e4b",
   "metadata": {},
   "outputs": [],
   "source": [
    "regioes_coords_atualizadas = {\n",
    "    'HB': [\n",
    "        (-20.816000, -49.449000), (-20.825000, -49.406000), (-20.825000, -49.368000), (-20.842000, -49.353000),\n",
    "        (-20.852000, -49.366000), (-20.869000, -49.352000), (-20.875000, -49.355000), (-20.876000, -49.349000),\n",
    "        (-20.880000, -49.345000), (-20.891000, -49.355000), (-20.904000, -49.345000), (-20.930000, -49.348000),\n",
    "        (-20.906000, -49.445000), (-20.816000, -49.449000)\n",
    "    ],\n",
    "    'Cidade das Crianças': [\n",
    "        (-20.814000, -49.450000), (-20.790000, -49.459000), (-20.781000, -49.416000), (-20.790000, -49.413000),\n",
    "        (-20.779000, -49.402000), (-20.791000, -49.388000), (-20.806000, -49.409000), (-20.816000, -49.411000),\n",
    "        (-20.823000, -49.419000), (-20.814000, -49.450000)\n",
    "    ],\n",
    "    'Pinheirinho': [\n",
    "        (-20.790000, -49.459000), (-20.689000, -49.469000), (-20.716000, -49.463000), (-20.684000, -49.462000),\n",
    "        (-20.705000, -49.423000), (-20.730000, -49.428000), (-20.766000, -49.411000), (-20.767000, -49.386000),\n",
    "        (-20.777000, -49.386000), (-20.785000, -49.379000), (-20.791000, -49.388000), (-20.779000, -49.402000),\n",
    "        (-20.789000, -49.412000), (-20.781000, -49.417000), (-20.790000, -49.459000)\n",
    "    ],\n",
    "    'CEU': [\n",
    "        (-20.723000, -49.424000), (-20.709000, -49.387000), (-20.749000, -49.375000), (-20.710000, -49.387000), (-20.750000, -49.374000),\n",
    "        (-20.779000, -49.382000), (-20.768000, -49.385000), (-20.766000, -49.411000), (-20.723000, -49.424000)\n",
    "    ],\n",
    "    'BOSQUE': [\n",
    "        (-20.710000, -49.387000), (-20.725000, -49.382000), (-20.749000, -49.375000), (-20.778000, -49.383000),\n",
    "        (-20.791000, -49.364000), (-20.781000, -49.353000), (-20.742000, -49.338000), (-20.666000, -49.341000),\n",
    "        (-20.635000, -49.354000), (-20.672000, -49.362000), (-20.679000, -49.347000), (-20.723000, -49.370000),\n",
    "        (-20.710000, -49.387000)\n",
    "    ],\n",
    "    'Talhados': [\n",
    "        (-20.666000, -49.341000), (-20.739000, -49.338000), (-20.774000, -49.349000), (-20.762000, -49.306000),\n",
    "        (-20.769000, -49.282000), (-20.680000, -49.266000), (-20.666000, -49.341000)\n",
    "    ],\n",
    "    'Represa': [\n",
    "        (-20.773000, -49.351000), (-20.761000, -49.307000), (-20.770000, -49.282000), (-20.843000, -49.265000),\n",
    "        (-20.843000, -49.281000), (-20.828000, -49.288000), (-20.837000, -49.314000), (-20.826000, -49.307000),\n",
    "        (-20.818000, -49.325000), (-20.828000, -49.335000), (-20.811000, -49.356000), (-20.773000, -49.351000)\n",
    "    ]\n",
    "}\n",
    "\n",
    "regioes_coords_atualizadas['Vila Toninho'] = [\n",
    "    (-20.811000, -49.356000), (-20.831000, -49.361000), (-20.841000, -49.353000), (-20.852000, -49.365000),\n",
    "    (-20.876000, -49.349000), (-20.847000, -49.312000), (-20.837000, -49.315000), (-20.826000, -49.307000),\n",
    "    (-20.819000, -49.324000), (-20.827000, -49.344000), (-20.811000, -49.356000)\n",
    "]\n",
    "\n",
    "regioes_coords_atualizadas['Schimidt'] = [\n",
    "    (-20.931000, -49.348000), (-20.876000, -49.348000), (-20.846000, -49.308000), (-20.829000, -49.289000),\n",
    "    (-20.844000, -49.280000), (-20.844000, -49.263000), (-20.864000, -49.256000), (-20.915000, -49.314000),\n",
    "    (-20.931000, -49.348000)\n",
    "]\n",
    "\n",
    "regioes_coords_atualizadas['Centro'] = [\n",
    "    (-20.824000, -49.42000), (-20.806000, -49.411000), (-20.788000, -49.381000), (-20.782000, -49.381000),\n",
    "    (-20.781000, -49.368000), (-20.791000, -49.364000), (-20.781000, -49.352000), (-20.832000, -49.359000),\n",
    "    (-20.825000, -49.373000), (-20.824000, -49.420000)\n",
    "]"
   ]
  },
  {
   "cell_type": "code",
   "execution_count": 21,
   "id": "40b473d1-1a3d-4c50-8f81-d79e5f0e5c93",
   "metadata": {},
   "outputs": [
    {
     "name": "stderr",
     "output_type": "stream",
     "text": [
      "/home/edilson07/.pyenv/versions/3.10.11/envs/rp_housing/lib/python3.10/site-packages/shapely/predicates.py:540: RuntimeWarning: invalid value encountered in contains\n",
      "  return lib.contains(a, b, **kwargs)\n"
     ]
    }
   ],
   "source": [
    "from shapely.geometry import Point\n",
    "from shapely.geometry import Polygon\n",
    "\n",
    "# Dicionário para armazenar os polígonos das regiões\n",
    "regioes_poligonos = {regiao: Polygon(coords) for regiao, coords in regioes_coords_atualizadas.items()}\n",
    "\n",
    "def determinar_regiao(row, regioes_poligonos):\n",
    "    ponto = Point(row['latitude'], row['longitude'])\n",
    "    \n",
    "    for regiao, poligono in regioes_poligonos.items():\n",
    "        if poligono.contains(ponto):\n",
    "            return regiao\n",
    "    return None\n",
    "\n",
    "# Adicionar coluna de região ao dataframe\n",
    "X_test['regiao'] = X_test.apply(lambda row: determinar_regiao(row, regioes_poligonos), axis=1)"
   ]
  },
  {
   "cell_type": "code",
   "execution_count": 39,
   "id": "ddfc1e5f-30cf-4428-a59b-3192662502b9",
   "metadata": {},
   "outputs": [],
   "source": [
    "# Criando o df_cleanedFrame condominio_medio\n",
    "region_condominio = {\n",
    "    'regiao': ['BOSQUE', 'BOSQUE', 'CEU', 'CEU', 'Centro', 'Centro', 'Cidade das Crianças', 'Cidade das Crianças', 'HB', 'HB', \n",
    "               'Pinheirinho', 'Pinheirinho', 'Represa', 'Represa', 'Schimidt', 'Schimidt', 'Talhados', 'Talhados', \n",
    "               'Vila Toninho', 'Vila Toninho'],\n",
    "    'tipo': ['apartamento', 'casa', 'apartamento', 'casa', 'apartamento', 'casa', 'apartamento', 'casa', 'apartamento', 'casa', \n",
    "             'apartamento', 'casa', 'apartamento', 'casa', 'apartamento', 'casa', 'apartamento', 'casa', 'apartamento', 'casa'],\n",
    "    'condominio': [257.55, 269.43, 220.98, 88.00, 391.81, 364.50, 221.59, 290.30, 377.90, 425.53, 218.75, 235.32, 240.38, 384.28, \n",
    "                   122.23, 372.88, 215.29, 323.93, 263.84, 374.02]\n",
    "}\n",
    "\n",
    "condominio_medio = pd.DataFrame(region_condominio)\n",
    "\n",
    "# Função para preencher valores NaN com base em tipo e região\n",
    "def fill_condominio(row):\n",
    "    if pd.isna(row['condominio']):\n",
    "        matching_values = condominio_medio.loc[(condominio_medio['regiao'] == row['regiao']) & \n",
    "                                               (condominio_medio['tipo'] == row['tipo']), 'condominio'].values\n",
    "        if len(matching_values) > 0:\n",
    "            return matching_values[0]\n",
    "        else:\n",
    "            # Aqui você pode retornar algum valor padrão ou lançar um erro.\n",
    "            # Por exemplo, retornar np.nan ou 0, dependendo da sua necessidade.\n",
    "            return np.nan\n",
    "    else:\n",
    "        return row['condominio']"
   ]
  },
  {
   "cell_type": "code",
   "execution_count": 42,
   "id": "d2a13b9c-c0c6-45db-9d5e-ad3501f96703",
   "metadata": {},
   "outputs": [],
   "source": [
    "X_test['condominio'] = X_test.apply(fill_condominio, axis=1)"
   ]
  },
  {
   "cell_type": "code",
   "execution_count": 46,
   "id": "15d800d1-7dca-4480-a21e-92e33395f1a7",
   "metadata": {},
   "outputs": [],
   "source": [
    "X_test = X_test.dropna()"
   ]
  },
  {
   "cell_type": "code",
   "execution_count": 49,
   "id": "5d0048f6-860d-4528-81fb-961e09fe9586",
   "metadata": {},
   "outputs": [
    {
     "name": "stderr",
     "output_type": "stream",
     "text": [
      "/tmp/ipykernel_2010/1721612231.py:1: SettingWithCopyWarning: \n",
      "A value is trying to be set on a copy of a slice from a DataFrame.\n",
      "Try using .loc[row_indexer,col_indexer] = value instead\n",
      "\n",
      "See the caveats in the documentation: https://pandas.pydata.org/pandas-docs/stable/user_guide/indexing.html#returning-a-view-versus-a-copy\n",
      "  X_test['preco'] = X_test['preco'].apply(lambda x: x.split()[1]).str.replace('.', '').str.replace(',', '.').astype(float)\n",
      "/tmp/ipykernel_2010/1721612231.py:3: SettingWithCopyWarning: \n",
      "A value is trying to be set on a copy of a slice from a DataFrame.\n",
      "Try using .loc[row_indexer,col_indexer] = value instead\n",
      "\n",
      "See the caveats in the documentation: https://pandas.pydata.org/pandas-docs/stable/user_guide/indexing.html#returning-a-view-versus-a-copy\n",
      "  X_test['area'] = X_test['area'].str.replace('m²','').astype(int)\n",
      "/tmp/ipykernel_2010/1721612231.py:5: SettingWithCopyWarning: \n",
      "A value is trying to be set on a copy of a slice from a DataFrame.\n",
      "Try using .loc[row_indexer,col_indexer] = value instead\n",
      "\n",
      "See the caveats in the documentation: https://pandas.pydata.org/pandas-docs/stable/user_guide/indexing.html#returning-a-view-versus-a-copy\n",
      "  X_test['banheiros'] = X_test['banheiros'].astype(str).str.replace('+','')\n",
      "/tmp/ipykernel_2010/1721612231.py:6: SettingWithCopyWarning: \n",
      "A value is trying to be set on a copy of a slice from a DataFrame.\n",
      "Try using .loc[row_indexer,col_indexer] = value instead\n",
      "\n",
      "See the caveats in the documentation: https://pandas.pydata.org/pandas-docs/stable/user_guide/indexing.html#returning-a-view-versus-a-copy\n",
      "  X_test['banheiros'] = X_test['banheiros'].astype(float).astype(int)\n",
      "/tmp/ipykernel_2010/1721612231.py:8: SettingWithCopyWarning: \n",
      "A value is trying to be set on a copy of a slice from a DataFrame.\n",
      "Try using .loc[row_indexer,col_indexer] = value instead\n",
      "\n",
      "See the caveats in the documentation: https://pandas.pydata.org/pandas-docs/stable/user_guide/indexing.html#returning-a-view-versus-a-copy\n",
      "  X_test['garagem'] = X_test['garagem'].astype(str).str.replace('+','')\n",
      "/tmp/ipykernel_2010/1721612231.py:9: SettingWithCopyWarning: \n",
      "A value is trying to be set on a copy of a slice from a DataFrame.\n",
      "Try using .loc[row_indexer,col_indexer] = value instead\n",
      "\n",
      "See the caveats in the documentation: https://pandas.pydata.org/pandas-docs/stable/user_guide/indexing.html#returning-a-view-versus-a-copy\n",
      "  X_test['garagem'] = X_test['garagem'].astype(float).astype(int)\n",
      "/tmp/ipykernel_2010/1721612231.py:11: SettingWithCopyWarning: \n",
      "A value is trying to be set on a copy of a slice from a DataFrame.\n",
      "Try using .loc[row_indexer,col_indexer] = value instead\n",
      "\n",
      "See the caveats in the documentation: https://pandas.pydata.org/pandas-docs/stable/user_guide/indexing.html#returning-a-view-versus-a-copy\n",
      "  X_test['quartos'] = X_test['quartos'].astype(str).str.replace('+','')\n",
      "/tmp/ipykernel_2010/1721612231.py:12: SettingWithCopyWarning: \n",
      "A value is trying to be set on a copy of a slice from a DataFrame.\n",
      "Try using .loc[row_indexer,col_indexer] = value instead\n",
      "\n",
      "See the caveats in the documentation: https://pandas.pydata.org/pandas-docs/stable/user_guide/indexing.html#returning-a-view-versus-a-copy\n",
      "  X_test['quartos'] = X_test['quartos'].astype(float).astype(int)\n",
      "/tmp/ipykernel_2010/1721612231.py:19: SettingWithCopyWarning: \n",
      "A value is trying to be set on a copy of a slice from a DataFrame.\n",
      "Try using .loc[row_indexer,col_indexer] = value instead\n",
      "\n",
      "See the caveats in the documentation: https://pandas.pydata.org/pandas-docs/stable/user_guide/indexing.html#returning-a-view-versus-a-copy\n",
      "  X_test['condominio'] = X_test['condominio'].apply(handle_thousand_separator)\n",
      "/tmp/ipykernel_2010/1721612231.py:20: SettingWithCopyWarning: \n",
      "A value is trying to be set on a copy of a slice from a DataFrame.\n",
      "Try using .loc[row_indexer,col_indexer] = value instead\n",
      "\n",
      "See the caveats in the documentation: https://pandas.pydata.org/pandas-docs/stable/user_guide/indexing.html#returning-a-view-versus-a-copy\n",
      "  X_test['condominio'] = X_test['condominio'].astype(float)\n"
     ]
    }
   ],
   "source": [
    "X_test['preco'] = X_test['preco'].apply(lambda x: x.split()[1]).str.replace('.', '').str.replace(',', '.').astype(float)\n",
    "\n",
    "X_test['area'] = X_test['area'].str.replace('m²','').astype(int)\n",
    "\n",
    "X_test['banheiros'] = X_test['banheiros'].astype(str).str.replace('+','')\n",
    "X_test['banheiros'] = X_test['banheiros'].astype(float).astype(int)\n",
    "\n",
    "X_test['garagem'] = X_test['garagem'].astype(str).str.replace('+','')\n",
    "X_test['garagem'] = X_test['garagem'].astype(float).astype(int)\n",
    "\n",
    "X_test['quartos'] = X_test['quartos'].astype(str).str.replace('+','')\n",
    "X_test['quartos'] = X_test['quartos'].astype(float).astype(int)\n",
    "\n",
    "def handle_thousand_separator(val):\n",
    "    if isinstance(val, str) and val.count('.') > 1:\n",
    "        return float(val.replace('.', ''))\n",
    "    return val\n",
    "\n",
    "X_test['condominio'] = X_test['condominio'].apply(handle_thousand_separator)\n",
    "X_test['condominio'] = X_test['condominio'].astype(float)"
   ]
  },
  {
   "cell_type": "code",
   "execution_count": null,
   "id": "9a18e6e7-7341-4101-bfb3-7564971dd79b",
   "metadata": {},
   "outputs": [],
   "source": [
    "X_test = X_test.drop(['latitude','longitude', 'link','nome'], axis=1).copy()"
   ]
  },
  {
   "cell_type": "code",
   "execution_count": null,
   "id": "4f00b3be-be98-4e5e-a530-2ce0eb9d037e",
   "metadata": {},
   "outputs": [],
   "source": [
    "def geocode_address(address, api_key):\n",
    "    url = f\"https://maps.googleapis.com/maps/api/geocode/json?address={address}&key={api_key}\"\n",
    "    response = requests.get(url)\n",
    "    data = response.json()\n",
    "    \n",
    "    if data['status'] == \"OK\":\n",
    "        location = data['results'][0]['geometry']['location']\n",
    "        return location['lat'], location['lng']\n",
    "    else:\n",
    "        return None, None\n",
    "\n"
   ]
  }
 ],
 "metadata": {
  "kernelspec": {
   "display_name": "Python 3 (ipykernel)",
   "language": "python",
   "name": "python3"
  },
  "language_info": {
   "codemirror_mode": {
    "name": "ipython",
    "version": 3
   },
   "file_extension": ".py",
   "mimetype": "text/x-python",
   "name": "python",
   "nbconvert_exporter": "python",
   "pygments_lexer": "ipython3",
   "version": "3.10.11"
  }
 },
 "nbformat": 4,
 "nbformat_minor": 5
}
